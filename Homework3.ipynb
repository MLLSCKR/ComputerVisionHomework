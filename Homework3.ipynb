{
  "nbformat": 4,
  "nbformat_minor": 0,
  "metadata": {
    "colab": {
      "provenance": [],
      "authorship_tag": "ABX9TyNfGjFFZRQXONQdB4CgVcKF",
      "include_colab_link": true
    },
    "kernelspec": {
      "name": "python3",
      "display_name": "Python 3"
    },
    "language_info": {
      "name": "python"
    }
  },
  "cells": [
    {
      "cell_type": "markdown",
      "metadata": {
        "id": "view-in-github",
        "colab_type": "text"
      },
      "source": [
        "<a href=\"https://colab.research.google.com/github/MLLSCKR/ComputerVisionHomework/blob/main/Homework3.ipynb\" target=\"_parent\"><img src=\"https://colab.research.google.com/assets/colab-badge.svg\" alt=\"Open In Colab\"/></a>"
      ]
    },
    {
      "cell_type": "code",
      "source": [
        "from google.colab import drive\n",
        "drive.mount('/content/drive')\n",
        "\n",
        "FOLDERNAME = \"ComputerVisionLecture/Homework3\"\n",
        "assert FOLDERNAME is not None, \"[!] Enter the foldername.\"\n",
        "\n",
        "import sys\n",
        "sys.path.append('/content/drive/My Drive/{}'.format(FOLDERNAME))\n",
        "\n",
        "import os\n",
        "os.chdir('/content/drive/My Drive/{}'.format(FOLDERNAME))"
      ],
      "metadata": {
        "colab": {
          "base_uri": "https://localhost:8080/"
        },
        "id": "uUB4SZwTBp-z",
        "outputId": "3bcb575f-54d5-44d2-e72c-8d9c49b85012"
      },
      "execution_count": 1,
      "outputs": [
        {
          "output_type": "stream",
          "name": "stdout",
          "text": [
            "Drive already mounted at /content/drive; to attempt to forcibly remount, call drive.mount(\"/content/drive\", force_remount=True).\n"
          ]
        }
      ]
    },
    {
      "cell_type": "code",
      "execution_count": 3,
      "metadata": {
        "id": "vZrNl75MAchG"
      },
      "outputs": [],
      "source": [
        "import time\n",
        "import cv2\n",
        "import glob\n",
        "import os\n",
        "import numpy as np\n",
        "import random\n",
        "from sklearn.decomposition import PCA\n",
        "from sklearn.cluster import KMeans\n",
        "from sklearn.kernel_approximation import AdditiveChi2Sampler\n",
        "from sklearn.svm import LinearSVC\n",
        "from tqdm import tqdm"
      ]
    },
    {
      "cell_type": "code",
      "source": [
        "start_time = time.time()\n",
        "\n",
        "'''\n",
        "Parameters\n",
        "'''\n",
        "patch_stride = 16\n",
        "K = 20"
      ],
      "metadata": {
        "id": "PUpxzNw_Aij-"
      },
      "execution_count": 4,
      "outputs": []
    },
    {
      "cell_type": "code",
      "source": [
        "'''\n",
        "Load Dataset\n",
        "'''\n",
        "def scene15():\n",
        "\n",
        "    train_folders = glob.glob(\"SCENE-15/train/*\")\n",
        "    train_folders.sort()\n",
        "    classes = dict()\n",
        "    x_train = list()\n",
        "    y_train = list()\n",
        "    \n",
        "    for index, folder in enumerate(train_folders):\n",
        "        label = os.path.basename(folder)\n",
        "        classes[label] = index\n",
        "        paths = glob.glob(os.path.join(folder, \"*\"))\n",
        "        for path in tqdm(paths):\n",
        "            x_train.append(cv2.imread(path, 0))\n",
        "            y_train.append(index)\n",
        "\n",
        "    x_test = list()\n",
        "    y_test = list()\n",
        "    test_folders = glob.glob(\"SCENE-15/test/*\")\n",
        "    test_folders.sort()\n",
        "    for folder in test_folders:\n",
        "        label = os.path.basename(folder)\n",
        "        index = classes[label]\n",
        "        paths = glob.glob(os.path.join(folder, \"*\"))\n",
        "        for path in tqdm(paths):\n",
        "            x_test.append(cv2.imread(path, 0))\n",
        "            y_test.append(index)\n",
        "\n",
        "    return x_train, y_train, x_test, y_test, sorted(classes.keys())\n",
        "\n",
        "print(\"Load Dataset ...\")\n",
        "x_train, y_train, x_test, y_test, labels_names = scene15()\n",
        "\n",
        "random_indices = list(range(len(y_train)))\n",
        "random.shuffle(random_indices)\n",
        "x_train = np.array(x_train)[random_indices].tolist()\n",
        "y_train = np.array(y_train)[random_indices].tolist()"
      ],
      "metadata": {
        "colab": {
          "base_uri": "https://localhost:8080/"
        },
        "id": "laddWz9JBheT",
        "outputId": "a13c3a9f-77e4-4184-ec0a-597d5b9aa056"
      },
      "execution_count": 7,
      "outputs": [
        {
          "output_type": "stream",
          "name": "stdout",
          "text": [
            "Load Dataset ...\n"
          ]
        },
        {
          "output_type": "stream",
          "name": "stderr",
          "text": [
            "100%|██████████| 100/100 [00:00<00:00, 390.25it/s]\n",
            "100%|██████████| 100/100 [00:00<00:00, 367.60it/s]\n",
            "100%|██████████| 100/100 [00:00<00:00, 381.42it/s]\n",
            "100%|██████████| 100/100 [00:00<00:00, 632.61it/s]\n",
            "100%|██████████| 128/128 [00:00<00:00, 375.43it/s]\n",
            "100%|██████████| 100/100 [00:00<00:00, 606.61it/s]\n",
            "100%|██████████| 100/100 [00:00<00:00, 451.49it/s]\n",
            "100%|██████████| 100/100 [00:00<00:00, 625.36it/s]\n",
            "100%|██████████| 100/100 [00:00<00:00, 592.97it/s]\n",
            "100%|██████████| 100/100 [00:00<00:00, 599.56it/s]\n",
            "100%|██████████| 110/110 [00:00<00:00, 635.48it/s]\n",
            "100%|██████████| 100/100 [00:00<00:00, 383.68it/s]\n",
            "100%|██████████| 100/100 [00:00<00:00, 626.89it/s]\n",
            "100%|██████████| 100/100 [00:00<00:00, 580.79it/s]\n",
            "100%|██████████| 100/100 [00:00<00:00, 636.82it/s]\n",
            "100%|██████████| 109/109 [00:00<00:00, 533.87it/s]\n",
            "100%|██████████| 100/100 [00:00<00:00, 531.21it/s]\n",
            "100%|██████████| 100/100 [00:00<00:00, 453.95it/s]\n",
            "100%|██████████| 100/100 [00:00<00:00, 537.04it/s]\n",
            "100%|██████████| 100/100 [00:00<00:00, 356.23it/s]\n",
            "100%|██████████| 100/100 [00:00<00:00, 520.20it/s]\n",
            "100%|██████████| 100/100 [00:00<00:00, 416.81it/s]\n",
            "100%|██████████| 100/100 [00:00<00:00, 490.65it/s]\n",
            "100%|██████████| 100/100 [00:00<00:00, 558.97it/s]\n",
            "100%|██████████| 100/100 [00:00<00:00, 514.79it/s]\n",
            "100%|██████████| 100/100 [00:00<00:00, 471.89it/s]\n",
            "100%|██████████| 100/100 [00:00<00:00, 371.19it/s]\n",
            "100%|██████████| 100/100 [00:00<00:00, 497.66it/s]\n",
            "100%|██████████| 100/100 [00:00<00:00, 492.06it/s]\n",
            "100%|██████████| 100/100 [00:00<00:00, 537.93it/s]"
          ]
        },
        {
          "output_type": "stream",
          "name": "stdout",
          "text": [
            "<class 'list'>\n"
          ]
        },
        {
          "output_type": "stream",
          "name": "stderr",
          "text": [
            "\n",
            "<ipython-input-7-e914e1ef2df2>:40: VisibleDeprecationWarning: Creating an ndarray from ragged nested sequences (which is a list-or-tuple of lists-or-tuples-or ndarrays with different lengths or shapes) is deprecated. If you meant to do this, you must specify 'dtype=object' when creating the ndarray.\n",
            "  x_train = np.array(x_train)[random_indices].tolist()\n"
          ]
        }
      ]
    },
    {
      "cell_type": "markdown",
      "source": [
        "### 문제1. Bag-of-features 구현 및 Classifier 학습"
      ],
      "metadata": {
        "id": "un19YRYGg72G"
      }
    },
    {
      "cell_type": "markdown",
      "source": [
        "#### 1-1. [특징 추출] 코드 상에서 주어진 Keypoint를 통하여, 각각의 이미지마다 특징을 추출하세요.\n",
        "\n",
        "SIFT를 이용하여 특징을 추출하였습니다.\n",
        "OpenCV package에서 제공하는 SIFT descriptor의 default 설정을 이용하였으며, 아래와 같이 descriptor를 선언하였습니다.\n",
        "\n",
        "descriptor = cv2.xfeatures2d.SIFT_create()\n",
        "\n",
        "\n",
        "또한 주어진 templete code에서 Feature Extract 등의 과정을 확인하기 위한 print message를 message 길이 문제로 인해 tqdm을 이용하는 방식으로 변경하였습니다."
      ],
      "metadata": {
        "id": "_KwyZOEihBV7"
      }
    },
    {
      "cell_type": "code",
      "source": [
        "'''\n",
        "Extract Patches\n",
        "'''\n",
        "train_key_points = list()\n",
        "train_feature_shapes = list()\n",
        "\n",
        "for image in x_train:\n",
        "    h, w = image.shape\n",
        "    image_key_points = list()\n",
        "    for x in range(0, w, patch_stride):\n",
        "        for y in range(0, h, patch_stride):\n",
        "            image_key_points.append(cv2.KeyPoint(x, y, patch_stride))\n",
        "    train_key_points.append(image_key_points)\n",
        "    train_feature_shapes.append((len(range(0, w, patch_stride)), (len(range(0, h, patch_stride)))))"
      ],
      "metadata": {
        "id": "m1HAjog3B3ac"
      },
      "execution_count": 17,
      "outputs": []
    },
    {
      "cell_type": "code",
      "source": [
        "test_key_points = list()\n",
        "test_feature_shapes = list()\n",
        "\n",
        "for image in x_test:\n",
        "    # Write Your Code Here #####################################################\n",
        "    h, w = image.shape\n",
        "    image_key_points = list()\n",
        "    for x in range(0, w, patch_stride):\n",
        "        for y in range(0, h, patch_stride):\n",
        "            image_key_points.append(cv2.KeyPoint(x, y, patch_stride))\n",
        "    test_key_points.append(image_key_points)\n",
        "    test_feature_shapes.append((len(range(0, w, patch_stride)), (len(range(0, h, patch_stride)))))\n",
        "    ############################################################################"
      ],
      "metadata": {
        "id": "0KsZCNxLGRtZ"
      },
      "execution_count": 18,
      "outputs": []
    },
    {
      "cell_type": "code",
      "source": [
        "'''\n",
        "Extract Features\n",
        "'''\n",
        "# Write Your Code Here ############################################################\n",
        "descriptor = cv2.xfeatures2d.SIFT_create()\n",
        "###################################################################################\n",
        "train_features = list()\n",
        "index = 0\n",
        "print(\"Extract Train Features\")\n",
        "for idx in tqdm(range(len(x_train))):\n",
        "    image = x_train[idx]\n",
        "    key_points = train_key_points[idx]\n",
        "    _, features = descriptor.detectAndCompute(image, None)\n",
        "    train_features.append(features)\n",
        "    index += 1\n",
        "    #print(\"Extract Train Features ... {:4d}/{:4d}\".format(index, len(x_train)))\n",
        "\n",
        "test_features = list()\n",
        "index = 0\n",
        "print(\"Extract Test Features\")\n",
        "for idx in tqdm(range(len(x_test))):\n",
        "    image = x_test[idx]\n",
        "    key_points = test_key_points[idx]\n",
        "\n",
        "    # Write Your Code Here ########################################################\n",
        "    _, features = descriptor.detectAndCompute(image, None)\n",
        "    ###############################################################################\n",
        "    test_features.append(features)\n",
        "    index += 1\n",
        "    #print(\"Extract Test Features ... {:4d}/{:4d}\".format(index, len(x_test)))"
      ],
      "metadata": {
        "colab": {
          "base_uri": "https://localhost:8080/"
        },
        "id": "7vZV1kgAIdOE",
        "outputId": "a7a0a9c0-6b98-4c4a-82ef-f0305ff926ee"
      },
      "execution_count": 20,
      "outputs": [
        {
          "output_type": "stream",
          "name": "stdout",
          "text": [
            "Extract Train Features\n"
          ]
        },
        {
          "output_type": "stream",
          "name": "stderr",
          "text": [
            "100%|██████████| 1538/1538 [00:43<00:00, 35.52it/s]\n"
          ]
        },
        {
          "output_type": "stream",
          "name": "stdout",
          "text": [
            "Extract Test Features\n"
          ]
        },
        {
          "output_type": "stream",
          "name": "stderr",
          "text": [
            "100%|██████████| 1509/1509 [00:41<00:00, 36.80it/s]\n"
          ]
        }
      ]
    },
    {
      "cell_type": "code",
      "source": [
        "'''\n",
        "Normalizing\n",
        "'''\n",
        "flattened_train_features = np.concatenate(train_features, axis=0)\n",
        "pca = PCA(n_components=flattened_train_features.shape[-1], whiten=True)\n",
        "pca.fit(flattened_train_features)\n",
        "train_normalized_features = list()\n",
        "index = 0\n",
        "print(\"Normalize Train Features\")\n",
        "for idx in tqdm(range(len(train_features))):\n",
        "    features = train_features[idx]\n",
        "    features = pca.transform(features)\n",
        "    train_normalized_features.append(features)\n",
        "    index += 1\n",
        "    #print(\"Normalize Train Features ... {:4d}/{:4d}\".format(index, len(train_features)))\n",
        "test_normalized_features = list()\n",
        "index = 0\n",
        "print(\"Normalize Test Features\")\n",
        "for idx in tqdm(range(len(test_features))):\n",
        "    features = test_features[idx]\n",
        "    features = pca.transform(features)\n",
        "    test_normalized_features.append(features)\n",
        "    index += 1\n",
        "    #print(\"Normalize Test Features ... {:4d}/{:4d}\".format(index, len(test_features)))"
      ],
      "metadata": {
        "colab": {
          "base_uri": "https://localhost:8080/"
        },
        "id": "eXB3aNIuJ29S",
        "outputId": "1e245c8b-be5a-4c07-80bc-153cd162e2c5"
      },
      "execution_count": 24,
      "outputs": [
        {
          "output_type": "stream",
          "name": "stdout",
          "text": [
            "Normalize Train Features\n"
          ]
        },
        {
          "output_type": "stream",
          "name": "stderr",
          "text": [
            "100%|██████████| 1538/1538 [00:01<00:00, 1297.86it/s]\n"
          ]
        },
        {
          "output_type": "stream",
          "name": "stdout",
          "text": [
            "Normalize Test Features\n"
          ]
        },
        {
          "output_type": "stream",
          "name": "stderr",
          "text": [
            "100%|██████████| 1509/1509 [00:01<00:00, 1105.96it/s]\n"
          ]
        }
      ]
    },
    {
      "cell_type": "markdown",
      "source": [
        "#### 1-2. [Bag-of-features 구현] K-means을 통해 구해진 codebook을 통하여, 각각의 이미지 특징을 encoding(histogram화 혹은 양자화) 하세요.\n",
        "\n",
        "앞서 구한 image의 feature들을 양자화 하기 위해서 아래와 같은 code를 사용하였습니다.\n",
        "\n",
        "        representations = np.zeros(dtype = np.int64, shape = (self.K))\n",
        "        \n",
        "        min_index = np.argmin(distances, axis = 1)\n",
        "        for i in range(len(min_index)):\n",
        "            idx = min_index[i]\n",
        "            representations[idx] += 1\n",
        "\n",
        "distances array에 저장되어 있는 각 cluster와의 거리 정보를 이용하여 가장 가까운 cluster를 찾고(np.argmin), 그 개수를 counting하는 방식으로 image feature를 encoding할 수 있었습니다."
      ],
      "metadata": {
        "id": "lDKoJ481h0I4"
      }
    },
    {
      "cell_type": "code",
      "source": [
        "'''\n",
        "Make Codebook\n",
        "'''\n",
        "###################################################################################\n",
        "# 아래의 코드의 빈 곳(None 부분)을 채우세요.\n",
        "# None 부분 외의 부분은 가급적 수정 하지 말고, 주어진 형식에 맞추어\n",
        "# None 부분 만을 채워주세요. 임의적으로 전체적인 구조를 수정하셔도 좋지만,\n",
        "# 파이썬 코딩에 익숙 하지 않으시면, 가급적 틀을 유지하시는 것을 권장합니다.\n",
        "# 1) 함수 encode 부분 안의 None 부분을 채우세요.\n",
        "#    distances는 K means 알고리즘을 통해 얻어진 centroids, 즉 codewords(visual words)와\n",
        "#    각 이미지의 특징들 간의 거리 입니다.\n",
        "#    distances 값을 이용하여, features(# of keypoints, feature_dim)를\n",
        "#    인코딩(histogram 혹은 quantization이라고도 함) 하세요.\n",
        "#    인코딩된 결과인 representations은 (K)로 표현되어야 합니다.\n",
        "#    이 때, K는 codewords의 개수입니다.\n",
        "###################################################################################\n",
        "class Codebook:\n",
        "\n",
        "    def __init__(self, K):\n",
        "\n",
        "        self.K = K\n",
        "\n",
        "        self.kmeans = KMeans(n_clusters=K, verbose=False)\n",
        "\n",
        "    def make_code_words(self, features):\n",
        "\n",
        "        self.kmeans.fit(features)\n",
        "\n",
        "    def encode(self, features, shapes):\n",
        "\n",
        "        distances = self.kmeans.transform(features)\n",
        "\n",
        "        # Write Your Code Here ########################################################\n",
        "        representations = np.zeros(dtype=np.int64, shape=(len(distances), self.K))\n",
        "        '''\n",
        "        힌트- 방법1\n",
        "        distances를 통해 representation에 대한 연산 진행\n",
        "        np.argmin, np.arange, np.sum 등 라이브러리 사용\n",
        "        '''\n",
        "        '''\n",
        "        힌트- 방법2\n",
        "        nearest_centroid_indices = self.kmeans.predict(features)\n",
        "        위와 같이 nearest_centroid_indices 활용한 연산도 가능\n",
        "        '''\n",
        "        # 적절한 방법을 통해 구현하고 왜 그런 방식을 사용하였는지 보고서 등에 작성해야 합니다.\n",
        "        representations = np.zeros(dtype = np.int64, shape = (self.K))\n",
        "        \n",
        "        min_index = np.argmin(distances, axis = 1)\n",
        "        for i in range(len(min_index)):\n",
        "            idx = min_index[i]\n",
        "            representations[idx] += 1\n",
        "        ###############################################################################\n",
        "\n",
        "        if np.array(representations).shape != (self.K, ):\n",
        "            # representations는 반드시 (K) 차원을 가져야 합니다.\n",
        "            # 해당 조건문은 잘못 구현했을 경우를 판단하기 위해 작성되었으며, 추후 문제없이 구현되었다면 지우셔도 됩니다.\n",
        "            print(np.array(representations).shape)\n",
        "            print(\"Your code may be wrong\")\n",
        "\n",
        "        return representations"
      ],
      "metadata": {
        "id": "3z9sKvPMJ-0T"
      },
      "execution_count": 8,
      "outputs": []
    },
    {
      "cell_type": "code",
      "source": [
        "print(\"Make Codebook ...\")\n",
        "flattened_normalized_train_features = pca.transform(flattened_train_features)\n",
        "codebook = Codebook(K)\n",
        "codebook.make_code_words(flattened_normalized_train_features)\n",
        "\n",
        "'''\n",
        "Encode Features\n",
        "'''\n",
        "train_encoded_features = list()\n",
        "index = 0\n",
        "print(\"Encoding Train Features\")\n",
        "for idx in tqdm(range(len(train_normalized_features))):\n",
        "    features = train_normalized_features[idx]\n",
        "    shapes = train_feature_shapes[idx]\n",
        "    encoded_features = codebook.encode(features, shapes)\n",
        "    train_encoded_features.append(encoded_features)\n",
        "    index += 1\n",
        "    #print(\"Encoding Train Features ... {:4d}/{:4d}\".format(index, len(train_normalized_features)))\n",
        "test_encoded_features = list()\n",
        "index = 0\n",
        "print(\"Encoding Test Features\")\n",
        "for idx in tqdm(range(len(test_normalized_features))):\n",
        "    features = test_normalized_features[idx]\n",
        "    shapes = test_feature_shapes[idx]\n",
        "\n",
        "    encoded_features = codebook.encode(features, shapes)\n",
        "    test_encoded_features.append(encoded_features)\n",
        "    index += 1\n",
        "    #print(\"Encoding Test Features ... {:4d}/{:4d}\".format(index, len(test_normalized_features)))"
      ],
      "metadata": {
        "colab": {
          "base_uri": "https://localhost:8080/"
        },
        "id": "6AsoN67pOexw",
        "outputId": "85d68d27-5a16-40b8-819c-9d404f1661bb"
      },
      "execution_count": 26,
      "outputs": [
        {
          "output_type": "stream",
          "name": "stdout",
          "text": [
            "Make Codebook ...\n"
          ]
        },
        {
          "output_type": "stream",
          "name": "stderr",
          "text": [
            "/usr/local/lib/python3.10/dist-packages/sklearn/cluster/_kmeans.py:870: FutureWarning: The default value of `n_init` will change from 10 to 'auto' in 1.4. Set the value of `n_init` explicitly to suppress the warning\n",
            "  warnings.warn(\n"
          ]
        },
        {
          "output_type": "stream",
          "name": "stdout",
          "text": [
            "Encoding Train Features\n"
          ]
        },
        {
          "output_type": "stream",
          "name": "stderr",
          "text": [
            "100%|██████████| 1538/1538 [00:01<00:00, 815.82it/s]\n"
          ]
        },
        {
          "output_type": "stream",
          "name": "stdout",
          "text": [
            "Encoding Test Features\n"
          ]
        },
        {
          "output_type": "stream",
          "name": "stderr",
          "text": [
            "100%|██████████| 1509/1509 [00:01<00:00, 860.88it/s]\n"
          ]
        }
      ]
    },
    {
      "cell_type": "code",
      "source": [
        "'''\n",
        "Approximate Kernel\n",
        "'''\n",
        "chi2sampler = AdditiveChi2Sampler(sample_steps=2)\n",
        "chi2sampler.fit(train_encoded_features, y_train)\n",
        "train_encoded_features = chi2sampler.transform(train_encoded_features)\n",
        "test_encoded_features = chi2sampler.transform(test_encoded_features)"
      ],
      "metadata": {
        "id": "dgVWKAnBOKgM"
      },
      "execution_count": 22,
      "outputs": []
    },
    {
      "cell_type": "markdown",
      "source": [
        "#### 1-3. [SVM을 통한 image 분류] Bag-of-features algorithm을 통해 얻어진 encoding 된 vector를 통해, SVM을 학습하세요.\n",
        "\n",
        "문제1 에서 SVM을 통해 Classifier 학습이 구동되는지 확인하기 위하여 선언한 SVM model은 아래와 같습니다.\n",
        "\n",
        "\n",
        "    model = LinearSVC(C=1, max_iter=100, verbose=False)\n",
        "\n",
        "Regularization parameter(C)는 1로, max_iteration은 100회 학습을 진행하였습니다.\n",
        "\n",
        "학습 결과 Train score: 0.20091, Test score: 0.18887을 기록하였습니다."
      ],
      "metadata": {
        "id": "P84wOV6djVKn"
      }
    },
    {
      "cell_type": "code",
      "source": [
        "'''\n",
        "Classify Images with SVM\n",
        "'''\n",
        "###################################################################################\n",
        "# 아래의 코드의 빈 곳을 채우세요.\n",
        "# 1) 아래의 model 부분에 sklearn 패키지를 활용하여, Linear SVM(SVC) 모델을 정의하세요.\n",
        "#    처음에는 SVM의 parameter를 기본으로 설정하여 구동하시길 권장합니다.\n",
        "#    구동 성공 시, SVM의 C 값과 max_iter 파라미터 등을 조정하여 성능 향상을 해보시길 바랍니다.\n",
        "###################################################################################\n",
        "# Write Your Code Here ############################################################\n",
        "model = LinearSVC(C=1, max_iter=100, verbose=False)\n",
        "###################################################################################\n",
        "\n",
        "print(\"Classify Images ...\")\n",
        "# Write Your Code Here ############################################################\n",
        "'''\n",
        "위에서 정의한 model을 train data를 가지고 학습시켜보세요.\n",
        "문제 1-3의 조건을 잘 읽고 해당되는 X와 y를 정의하면 됩니다.\n",
        "'''\n",
        "model.fit(train_encoded_features, y_train)\n",
        "\n",
        "###################################################################################\n",
        "train_score = model.score(train_encoded_features, y_train)\n",
        "test_score = model.score(test_encoded_features, y_test)\n",
        "\n",
        "elapsed_time = time.time() - start_time"
      ],
      "metadata": {
        "colab": {
          "base_uri": "https://localhost:8080/"
        },
        "id": "bMdJGaDaPL-K",
        "outputId": "6865245d-c947-48c8-9323-c86ba798e3ee"
      },
      "execution_count": 23,
      "outputs": [
        {
          "output_type": "stream",
          "name": "stdout",
          "text": [
            "Classify Images ...\n"
          ]
        },
        {
          "output_type": "stream",
          "name": "stderr",
          "text": [
            "/usr/local/lib/python3.10/dist-packages/sklearn/svm/_base.py:1244: ConvergenceWarning: Liblinear failed to converge, increase the number of iterations.\n",
            "  warnings.warn(\n"
          ]
        }
      ]
    },
    {
      "cell_type": "code",
      "source": [
        "'''\n",
        "Print Results\n",
        "'''\n",
        "print()\n",
        "print(\"=\" * 90)\n",
        "print(\"Train  Score: {:.5f}\".format(train_score))\n",
        "print(\"Test   Score: {:.5f}\".format(test_score))\n",
        "print(\"Elapsed Time: {:.2f} secs\".format(elapsed_time))\n",
        "print(\"=\" * 90)"
      ],
      "metadata": {
        "colab": {
          "base_uri": "https://localhost:8080/"
        },
        "id": "FZej3-Vzad_Y",
        "outputId": "fd7b29ee-759d-468b-c56e-f8008170846d"
      },
      "execution_count": 24,
      "outputs": [
        {
          "output_type": "stream",
          "name": "stdout",
          "text": [
            "\n",
            "==========================================================================================\n",
            "Train  Score: 0.46424\n",
            "Test   Score: 0.35719\n",
            "Elapsed Time: 302.34 secs\n",
            "==========================================================================================\n"
          ]
        }
      ]
    },
    {
      "cell_type": "markdown",
      "source": [
        "### 문제2. Parameter 조정을 통한 성능 개선\n",
        "**문제 1에서 구현한 코드에는 여러 parameter가 존재합니다. 이를 자유롭게 조정하여 선은 개선을 시도해보세요. (자동화된 parameter search도 가능하며, K와 patch_stride 수정과 같이 memory 부족으로 큰 data를 사용하지 못하는 경우에는 절대적인 성능 지표보다 상대적인 성능 향상을 고려해주시면 됩니다.)**\n",
        "\n"
      ],
      "metadata": {
        "id": "9IzYzTStk8Kp"
      }
    },
    {
      "cell_type": "code",
      "source": [
        "def extract_patches(x_train, x_test, patch_stride):\n",
        "    '''\n",
        "    Extract Patches\n",
        "    '''\n",
        "    print(\"\\tStart Extract Patches\")\n",
        "\n",
        "    train_key_points = list()\n",
        "    train_feature_shapes = list()\n",
        "\n",
        "    for image in x_train:\n",
        "        h, w = image.shape\n",
        "        image_key_points = list()\n",
        "        for x in range(0, w, patch_stride):\n",
        "            for y in range(0, h, patch_stride):\n",
        "                image_key_points.append(cv2.KeyPoint(x, y, patch_stride))\n",
        "        train_key_points.append(image_key_points)\n",
        "        train_feature_shapes.append((len(range(0, w, patch_stride)), (len(range(0, h, patch_stride)))))\n",
        "\n",
        "    test_key_points = list()\n",
        "    test_feature_shapes = list()\n",
        "\n",
        "    for image in x_test:\n",
        "        # Write Your Code Here #####################################################\n",
        "        h, w = image.shape\n",
        "        image_key_points = list()\n",
        "        for x in range(0, w, patch_stride):\n",
        "            for y in range(0, h, patch_stride):\n",
        "                image_key_points.append(cv2.KeyPoint(x, y, patch_stride))\n",
        "        test_key_points.append(image_key_points)\n",
        "        test_feature_shapes.append((len(range(0, w, patch_stride)), (len(range(0, h, patch_stride)))))\n",
        "        ############################################################################\n",
        "\n",
        "    return train_key_points, train_feature_shapes, test_key_points, test_feature_shapes\n",
        "\n",
        "def extract_features(descriptor, x_train, train_key_points, x_test, test_key_points):\n",
        "    '''\n",
        "    Extract Features\n",
        "    '''\n",
        "    print(\"\\tStart Extract Features\")\n",
        "\n",
        "    train_features = list()\n",
        "    index = 0\n",
        "    for image, key_points in zip(x_train, train_key_points):\n",
        "        _, features = descriptor.detectAndCompute(image, None)\n",
        "        train_features.append(features)\n",
        "        index += 1\n",
        "\n",
        "    test_features = list()\n",
        "    index = 0\n",
        "    for image, key_points in zip(x_test, test_key_points):\n",
        "        # Write Your Code Here ########################################################\n",
        "        _, features = descriptor.detectAndCompute(image, None)\n",
        "        ###############################################################################\n",
        "        test_features.append(features)\n",
        "        index += 1\n",
        "\n",
        "    '''\n",
        "    Normalizing\n",
        "    '''\n",
        "    print(\"\\tStart Normalizing\")\n",
        "    flattened_train_features = np.concatenate(train_features, axis=0)\n",
        "    pca = PCA(n_components=flattened_train_features.shape[-1], whiten=True)\n",
        "    pca.fit(flattened_train_features)\n",
        "    train_normalized_features = list()\n",
        "    index = 0\n",
        "    for features in train_features:\n",
        "        features = pca.transform(features)\n",
        "        train_normalized_features.append(features)\n",
        "        index += 1\n",
        "\n",
        "    test_normalized_features = list()\n",
        "    index = 0\n",
        "    for features in test_features:\n",
        "        features = pca.transform(features)\n",
        "        test_normalized_features.append(features)\n",
        "        index += 1\n",
        "\n",
        "    return train_normalized_features, test_normalized_features, flattened_train_features, pca\n",
        "\n",
        "def execution_training(model, descriptor, patch_stride, K, x_train, x_test):\n",
        "    start_time = time.time()\n",
        "\n",
        "    ###extract patches\n",
        "    train_key_points, train_feature_shapes, test_key_points, test_feature_shapes = extract_patches(x_train, x_test, patch_stride)\n",
        "\n",
        "    ###extract features\n",
        "    train_normalized_features, test_normalized_features, flattened_train_features, pca = extract_features(descriptor, x_train, train_key_points, x_test, test_key_points)\n",
        "\n",
        "    print(\"\\tMake Codebook ...\")\n",
        "    flattened_normalized_train_features = pca.transform(flattened_train_features)\n",
        "    codebook = Codebook(K)\n",
        "    codebook.make_code_words(flattened_normalized_train_features)\n",
        "\n",
        "    '''\n",
        "    Encode Features\n",
        "    '''\n",
        "    print(\"\\tStart Encoding Features\")\n",
        "    train_encoded_features = list()\n",
        "    index = 0\n",
        "    for features, shapes in zip(train_normalized_features, train_feature_shapes):\n",
        "        encoded_features = codebook.encode(features, shapes)\n",
        "        train_encoded_features.append(encoded_features)\n",
        "        index += 1\n",
        "\n",
        "    test_encoded_features = list()\n",
        "    index = 0\n",
        "    for features, shapes in zip(test_normalized_features, test_feature_shapes):\n",
        "        encoded_features = codebook.encode(features, shapes)\n",
        "        test_encoded_features.append(encoded_features)\n",
        "        index += 1\n",
        "    \n",
        "    '''\n",
        "    Approximate Kernel\n",
        "    '''\n",
        "    chi2sampler = AdditiveChi2Sampler(sample_steps=2)\n",
        "    chi2sampler.fit(train_encoded_features, y_train)\n",
        "    train_encoded_features = chi2sampler.transform(train_encoded_features)\n",
        "    test_encoded_features = chi2sampler.transform(test_encoded_features)\n",
        "\n",
        "    print(\"\\tClassify Images ...\")\n",
        "\n",
        "    model.fit(train_encoded_features, y_train)\n",
        "\n",
        "    train_score = model.score(train_encoded_features, y_train)\n",
        "    test_score = model.score(test_encoded_features, y_test)\n",
        "\n",
        "    elapsed_time = time.time() - start_time\n",
        "\n",
        "    '''\n",
        "    Print Results\n",
        "    '''\n",
        "    print()\n",
        "    print(\"=\" * 90)\n",
        "    print(\"\\tTrain  Score: {:.5f}\".format(train_score))\n",
        "    print(\"\\tTest   Score: {:.5f}\".format(test_score))\n",
        "    print(\"\\tElapsed Time: {:.2f} secs\".format(elapsed_time))\n",
        "    print(\"=\" * 90)"
      ],
      "metadata": {
        "id": "KBvmNL1vk7S4"
      },
      "execution_count": 9,
      "outputs": []
    },
    {
      "cell_type": "markdown",
      "source": [
        "#### 2-1. [feature extraction] faeture extraction algorithm과, keypoint를 만들 때의 patch_stride를 바꾸어보며 성능을 개선해보고, 성능의 증감의 이유를 분석해보세요.\n",
        "\n",
        "실험결과: \n",
        "\n",
        "\n",
        "*   patch_stride(8): Train Score = 0.47919, Test Score = 0.37575\n",
        "*   patch_stride(12): Train Score = 0.32705, Test Score = 0.26839\n",
        "*   patch_stride(16): Train Score = 0.28804, Test Score = 0.23923\n",
        "*   patch_stride(20): Train Score = 0.32120, Test Score = 0.26574\n",
        "*   patch_stride(24): Train Score = 0.39662, Test Score = 0.33400\n",
        "\n",
        "patch_stride가 8인 경우 가장 좋은 성능을 보였다. Train Score = 0.47919, Test Score = 0.37575\n",
        "\n",
        "Feature Detection을 위한 patch size는 검출하고자 하는 특징에 따라 다르게 결정된다. 우리가 실험에 사용하고자 선택한 image dataset의 feature들을 가장 잘 추출할 수 있었던 patch stride 값이 8였기 때문으로 유추한다.\n"
      ],
      "metadata": {
        "id": "Xq564E86n-Jr"
      }
    },
    {
      "cell_type": "code",
      "source": [
        "patch_stride_list = [8, 12, 16, 20, 24]\n",
        "\n",
        "for idx, patch_stride in enumerate(patch_stride_list):\n",
        "    print(\"problem 2-1. {} trial, patch_stride: {}\".format(idx, patch_stride))\n",
        "\n",
        "    descriptor = cv2.xfeatures2d.SIFT_create()\n",
        "    model = LinearSVC(C=1, max_iter=100, verbose=False)\n",
        "    K = 20\n",
        "    execution_training(model, descriptor, patch_stride, K, x_train, x_test)"
      ],
      "metadata": {
        "colab": {
          "base_uri": "https://localhost:8080/"
        },
        "id": "RaB4K0xvqjR-",
        "outputId": "561287b7-6b3c-4009-b906-04d72e527a28"
      },
      "execution_count": 26,
      "outputs": [
        {
          "output_type": "stream",
          "name": "stdout",
          "text": [
            "problem 2-1. 0 trial, patch_stride: 8\n",
            "\tStart Extract Patches\n",
            "\tStart Extract Features\n",
            "\tStart Normalizing\n",
            "\tMake Codebook ...\n"
          ]
        },
        {
          "output_type": "stream",
          "name": "stderr",
          "text": [
            "/usr/local/lib/python3.10/dist-packages/sklearn/cluster/_kmeans.py:870: FutureWarning: The default value of `n_init` will change from 10 to 'auto' in 1.4. Set the value of `n_init` explicitly to suppress the warning\n",
            "  warnings.warn(\n"
          ]
        },
        {
          "output_type": "stream",
          "name": "stdout",
          "text": [
            "\tStart Encoding Features\n",
            "\tClassify Images ...\n"
          ]
        },
        {
          "output_type": "stream",
          "name": "stderr",
          "text": [
            "/usr/local/lib/python3.10/dist-packages/sklearn/svm/_base.py:1244: ConvergenceWarning: Liblinear failed to converge, increase the number of iterations.\n",
            "  warnings.warn(\n"
          ]
        },
        {
          "output_type": "stream",
          "name": "stdout",
          "text": [
            "\n",
            "==========================================================================================\n",
            "\tTrain  Score: 0.47919\n",
            "\tTest   Score: 0.37575\n",
            "\tElapsed Time: 299.53 secs\n",
            "==========================================================================================\n",
            "problem 2-1. 1 trial, patch_stride: 12\n",
            "\tStart Extract Patches\n",
            "\tStart Extract Features\n",
            "\tStart Normalizing\n",
            "\tMake Codebook ...\n"
          ]
        },
        {
          "output_type": "stream",
          "name": "stderr",
          "text": [
            "/usr/local/lib/python3.10/dist-packages/sklearn/cluster/_kmeans.py:870: FutureWarning: The default value of `n_init` will change from 10 to 'auto' in 1.4. Set the value of `n_init` explicitly to suppress the warning\n",
            "  warnings.warn(\n"
          ]
        },
        {
          "output_type": "stream",
          "name": "stdout",
          "text": [
            "\tStart Encoding Features\n",
            "\tClassify Images ...\n"
          ]
        },
        {
          "output_type": "stream",
          "name": "stderr",
          "text": [
            "/usr/local/lib/python3.10/dist-packages/sklearn/svm/_base.py:1244: ConvergenceWarning: Liblinear failed to converge, increase the number of iterations.\n",
            "  warnings.warn(\n"
          ]
        },
        {
          "output_type": "stream",
          "name": "stdout",
          "text": [
            "\n",
            "==========================================================================================\n",
            "\tTrain  Score: 0.32705\n",
            "\tTest   Score: 0.26839\n",
            "\tElapsed Time: 293.95 secs\n",
            "==========================================================================================\n",
            "problem 2-1. 2 trial, patch_stride: 16\n",
            "\tStart Extract Patches\n",
            "\tStart Extract Features\n",
            "\tStart Normalizing\n",
            "\tMake Codebook ...\n"
          ]
        },
        {
          "output_type": "stream",
          "name": "stderr",
          "text": [
            "/usr/local/lib/python3.10/dist-packages/sklearn/cluster/_kmeans.py:870: FutureWarning: The default value of `n_init` will change from 10 to 'auto' in 1.4. Set the value of `n_init` explicitly to suppress the warning\n",
            "  warnings.warn(\n"
          ]
        },
        {
          "output_type": "stream",
          "name": "stdout",
          "text": [
            "\tStart Encoding Features\n",
            "\tClassify Images ...\n"
          ]
        },
        {
          "output_type": "stream",
          "name": "stderr",
          "text": [
            "/usr/local/lib/python3.10/dist-packages/sklearn/svm/_base.py:1244: ConvergenceWarning: Liblinear failed to converge, increase the number of iterations.\n",
            "  warnings.warn(\n"
          ]
        },
        {
          "output_type": "stream",
          "name": "stdout",
          "text": [
            "\n",
            "==========================================================================================\n",
            "\tTrain  Score: 0.28804\n",
            "\tTest   Score: 0.23923\n",
            "\tElapsed Time: 255.81 secs\n",
            "==========================================================================================\n",
            "problem 2-1. 3 trial, patch_stride: 20\n",
            "\tStart Extract Patches\n",
            "\tStart Extract Features\n",
            "\tStart Normalizing\n",
            "\tMake Codebook ...\n"
          ]
        },
        {
          "output_type": "stream",
          "name": "stderr",
          "text": [
            "/usr/local/lib/python3.10/dist-packages/sklearn/cluster/_kmeans.py:870: FutureWarning: The default value of `n_init` will change from 10 to 'auto' in 1.4. Set the value of `n_init` explicitly to suppress the warning\n",
            "  warnings.warn(\n"
          ]
        },
        {
          "output_type": "stream",
          "name": "stdout",
          "text": [
            "\tStart Encoding Features\n",
            "\tClassify Images ...\n"
          ]
        },
        {
          "output_type": "stream",
          "name": "stderr",
          "text": [
            "/usr/local/lib/python3.10/dist-packages/sklearn/svm/_base.py:1244: ConvergenceWarning: Liblinear failed to converge, increase the number of iterations.\n",
            "  warnings.warn(\n"
          ]
        },
        {
          "output_type": "stream",
          "name": "stdout",
          "text": [
            "\n",
            "==========================================================================================\n",
            "\tTrain  Score: 0.32120\n",
            "\tTest   Score: 0.26574\n",
            "\tElapsed Time: 252.93 secs\n",
            "==========================================================================================\n",
            "problem 2-1. 4 trial, patch_stride: 24\n",
            "\tStart Extract Patches\n",
            "\tStart Extract Features\n",
            "\tStart Normalizing\n",
            "\tMake Codebook ...\n"
          ]
        },
        {
          "output_type": "stream",
          "name": "stderr",
          "text": [
            "/usr/local/lib/python3.10/dist-packages/sklearn/cluster/_kmeans.py:870: FutureWarning: The default value of `n_init` will change from 10 to 'auto' in 1.4. Set the value of `n_init` explicitly to suppress the warning\n",
            "  warnings.warn(\n"
          ]
        },
        {
          "output_type": "stream",
          "name": "stdout",
          "text": [
            "\tStart Encoding Features\n",
            "\tClassify Images ...\n",
            "\n",
            "==========================================================================================\n",
            "\tTrain  Score: 0.39662\n",
            "\tTest   Score: 0.33400\n",
            "\tElapsed Time: 309.10 secs\n",
            "==========================================================================================\n"
          ]
        },
        {
          "output_type": "stream",
          "name": "stderr",
          "text": [
            "/usr/local/lib/python3.10/dist-packages/sklearn/svm/_base.py:1244: ConvergenceWarning: Liblinear failed to converge, increase the number of iterations.\n",
            "  warnings.warn(\n"
          ]
        }
      ]
    },
    {
      "cell_type": "markdown",
      "source": [
        "#### 2-2. [K-means] K-means의 visual work 개수 K를 변경해보며 성능을 개선해보고, 성능 증감의 이유를 분석해보세요.\n",
        "\n",
        "실험 결과:\n",
        "\n",
        "\n",
        "*   K: 12, Train Score = 0.17555, Test Score = 0.13850\n",
        "*   K: 16, Train Score = 0.40572, Test Score = 0.33002\n",
        "*   K: 20, Train Score = 0.33225, Test Score = 0.27435\n",
        "*   K: 24, Train Score = 0.31014, Test Score = 0.24785\n",
        "*   K: 28, Train Score = 0.49740, Test Score = 0.32936\n",
        "\n",
        "실험결과 k=28에서 Train Score = 0.40572, Test Score=0.32936로 좋은 성능을 보였다. K가 증가할 수록 성능이 증가하는 양상을 보이는 데, 이는 K가 증가할수록 classifer가 학습하는 data의 차원이 증가하여 더 고차원적인 분류기준을 학습할 수 있기 때문이라 생각한다.\n"
      ],
      "metadata": {
        "id": "Dtd5batgrnVo"
      }
    },
    {
      "cell_type": "code",
      "source": [
        "K_list = [12, 16, 20, 24, 28]\n",
        "\n",
        "for idx, K in enumerate(K_list):\n",
        "    print(\"problem 2-2. {} trial, K: {}\".format(idx, K))\n",
        "    descriptor = cv2.xfeatures2d.SIFT_create()\n",
        "    model = LinearSVC(C=1, max_iter=100, verbose=False)\n",
        "    patch_stride = 8\n",
        "    execution_training(model, descriptor, patch_stride, K, x_train, x_test)"
      ],
      "metadata": {
        "colab": {
          "base_uri": "https://localhost:8080/"
        },
        "id": "mfOl7G_5rc_F",
        "outputId": "7f91b05d-518a-4d9a-e930-0b0172f1346c"
      },
      "execution_count": 28,
      "outputs": [
        {
          "output_type": "stream",
          "name": "stdout",
          "text": [
            "problem 2-2. 0 trial, K: 12\n",
            "\tStart Extract Patches\n",
            "\tStart Extract Features\n",
            "\tStart Normalizing\n",
            "\tMake Codebook ...\n"
          ]
        },
        {
          "output_type": "stream",
          "name": "stderr",
          "text": [
            "/usr/local/lib/python3.10/dist-packages/sklearn/cluster/_kmeans.py:870: FutureWarning: The default value of `n_init` will change from 10 to 'auto' in 1.4. Set the value of `n_init` explicitly to suppress the warning\n",
            "  warnings.warn(\n"
          ]
        },
        {
          "output_type": "stream",
          "name": "stdout",
          "text": [
            "\tStart Encoding Features\n",
            "\tClassify Images ...\n"
          ]
        },
        {
          "output_type": "stream",
          "name": "stderr",
          "text": [
            "/usr/local/lib/python3.10/dist-packages/sklearn/svm/_base.py:1244: ConvergenceWarning: Liblinear failed to converge, increase the number of iterations.\n",
            "  warnings.warn(\n"
          ]
        },
        {
          "output_type": "stream",
          "name": "stdout",
          "text": [
            "\n",
            "==========================================================================================\n",
            "\tTrain  Score: 0.17555\n",
            "\tTest   Score: 0.13850\n",
            "\tElapsed Time: 213.18 secs\n",
            "==========================================================================================\n",
            "problem 2-2. 1 trial, K: 16\n",
            "\tStart Extract Patches\n",
            "\tStart Extract Features\n",
            "\tStart Normalizing\n",
            "\tMake Codebook ...\n"
          ]
        },
        {
          "output_type": "stream",
          "name": "stderr",
          "text": [
            "/usr/local/lib/python3.10/dist-packages/sklearn/cluster/_kmeans.py:870: FutureWarning: The default value of `n_init` will change from 10 to 'auto' in 1.4. Set the value of `n_init` explicitly to suppress the warning\n",
            "  warnings.warn(\n"
          ]
        },
        {
          "output_type": "stream",
          "name": "stdout",
          "text": [
            "\tStart Encoding Features\n",
            "\tClassify Images ...\n",
            "\n",
            "==========================================================================================\n",
            "\tTrain  Score: 0.40572\n",
            "\tTest   Score: 0.33002\n",
            "\tElapsed Time: 249.19 secs\n",
            "==========================================================================================\n"
          ]
        },
        {
          "output_type": "stream",
          "name": "stderr",
          "text": [
            "/usr/local/lib/python3.10/dist-packages/sklearn/svm/_base.py:1244: ConvergenceWarning: Liblinear failed to converge, increase the number of iterations.\n",
            "  warnings.warn(\n"
          ]
        },
        {
          "output_type": "stream",
          "name": "stdout",
          "text": [
            "problem 2-2. 2 trial, K: 20\n",
            "\tStart Extract Patches\n",
            "\tStart Extract Features\n",
            "\tStart Normalizing\n",
            "\tMake Codebook ...\n"
          ]
        },
        {
          "output_type": "stream",
          "name": "stderr",
          "text": [
            "/usr/local/lib/python3.10/dist-packages/sklearn/cluster/_kmeans.py:870: FutureWarning: The default value of `n_init` will change from 10 to 'auto' in 1.4. Set the value of `n_init` explicitly to suppress the warning\n",
            "  warnings.warn(\n"
          ]
        },
        {
          "output_type": "stream",
          "name": "stdout",
          "text": [
            "\tStart Encoding Features\n",
            "\tClassify Images ...\n"
          ]
        },
        {
          "output_type": "stream",
          "name": "stderr",
          "text": [
            "/usr/local/lib/python3.10/dist-packages/sklearn/svm/_base.py:1244: ConvergenceWarning: Liblinear failed to converge, increase the number of iterations.\n",
            "  warnings.warn(\n"
          ]
        },
        {
          "output_type": "stream",
          "name": "stdout",
          "text": [
            "\n",
            "==========================================================================================\n",
            "\tTrain  Score: 0.33225\n",
            "\tTest   Score: 0.27435\n",
            "\tElapsed Time: 323.73 secs\n",
            "==========================================================================================\n",
            "problem 2-2. 3 trial, K: 24\n",
            "\tStart Extract Patches\n",
            "\tStart Extract Features\n",
            "\tStart Normalizing\n",
            "\tMake Codebook ...\n"
          ]
        },
        {
          "output_type": "stream",
          "name": "stderr",
          "text": [
            "/usr/local/lib/python3.10/dist-packages/sklearn/cluster/_kmeans.py:870: FutureWarning: The default value of `n_init` will change from 10 to 'auto' in 1.4. Set the value of `n_init` explicitly to suppress the warning\n",
            "  warnings.warn(\n"
          ]
        },
        {
          "output_type": "stream",
          "name": "stdout",
          "text": [
            "\tStart Encoding Features\n",
            "\tClassify Images ...\n"
          ]
        },
        {
          "output_type": "stream",
          "name": "stderr",
          "text": [
            "/usr/local/lib/python3.10/dist-packages/sklearn/svm/_base.py:1244: ConvergenceWarning: Liblinear failed to converge, increase the number of iterations.\n",
            "  warnings.warn(\n"
          ]
        },
        {
          "output_type": "stream",
          "name": "stdout",
          "text": [
            "\n",
            "==========================================================================================\n",
            "\tTrain  Score: 0.31014\n",
            "\tTest   Score: 0.24785\n",
            "\tElapsed Time: 318.98 secs\n",
            "==========================================================================================\n",
            "problem 2-2. 4 trial, K: 28\n",
            "\tStart Extract Patches\n",
            "\tStart Extract Features\n",
            "\tStart Normalizing\n",
            "\tMake Codebook ...\n"
          ]
        },
        {
          "output_type": "stream",
          "name": "stderr",
          "text": [
            "/usr/local/lib/python3.10/dist-packages/sklearn/cluster/_kmeans.py:870: FutureWarning: The default value of `n_init` will change from 10 to 'auto' in 1.4. Set the value of `n_init` explicitly to suppress the warning\n",
            "  warnings.warn(\n"
          ]
        },
        {
          "output_type": "stream",
          "name": "stdout",
          "text": [
            "\tStart Encoding Features\n",
            "\tClassify Images ...\n",
            "\n",
            "==========================================================================================\n",
            "\tTrain  Score: 0.49740\n",
            "\tTest   Score: 0.32936\n",
            "\tElapsed Time: 405.89 secs\n",
            "==========================================================================================\n"
          ]
        },
        {
          "output_type": "stream",
          "name": "stderr",
          "text": [
            "/usr/local/lib/python3.10/dist-packages/sklearn/svm/_base.py:1244: ConvergenceWarning: Liblinear failed to converge, increase the number of iterations.\n",
            "  warnings.warn(\n"
          ]
        }
      ]
    },
    {
      "cell_type": "markdown",
      "source": [
        "#### 2-3. [SVM] SVM의 학습 파라미터인 C, max_iter 값 등을 수정해보며 성능을 개선해보고, 성능의 증감의 이유를 분석해보세요.\n",
        "\n",
        "실험 결과:\n",
        "\n",
        "\n",
        "*   (C: 0.5, max_iter:25): Train Score = 0.43238, Test Score = 0.30616\n",
        "*   (C: 0.5, max_iter:50): Train Score = 0.32640, Test Score = 0.26176\n",
        "*   (C: 0.5, max_iter:100): Train Score = 0.54421, Test Score = 0.36978\n",
        "*   (C: 0.5, max_iter:200): Train Score = 0.47984, Test Score = 0.34129\n",
        "*   (C: 0.5, max_iter:400): Train Score = 0.61183, Test Score = 0.38370\n",
        "\n",
        "*   (C: 0.75, max_iter:25): Train Score = 0.47464, Test Score = 0.35520\n",
        "*   (C: 0.75, max_iter:50): Train Score = 0.46554, Test Score = 0.34924\n",
        "*   (C: 0.75, max_iter:100): Train Score = 0.27893, Test Score = 0.23658\n",
        "*   (C: 0.75, max_iter:200): Train Score = 0.48179, Test Score = 0.31743\n",
        "*   (C: 0.75, max_iter:400): Train Score = 0.59233, Test Score = 0.39099\n",
        "\n",
        "*   (C: 1, max_iter:25): Train Score = 0.39012, Test Score = 0.30219\n",
        "*   (C: 1, max_iter:50): Train Score = 0.29974, Test Score = 0.23791\n",
        "*   (C: 1, max_iter:100): Train Score = 0.40832, Test Score = 0.29689\n",
        "*   (C: 1, max_iter:200): Train Score = 0.38817, Test Score = 0.29225\n",
        "*   (C: 1, max_iter:400): Train Score = 0.51886, Test Score = 0.37707\n",
        "\n",
        "*   (C: 1.25, max_iter:25): Train Score = 0.30884, Test Score = 0.22929\n",
        "*   (C: 1.25, max_iter:50): Train Score = 0.45189, Test Score = 0.33665\n",
        "*   (C: 1.25, max_iter:100): Train Score = 0.46684, Test Score = 0.34261\n",
        "*   (C: 1.25, max_iter:200): Train Score = 0.37841, Test Score = 0.29622\n",
        "*   (C: 1.25, max_iter:400): Train Score = 0.52406, Test Score = 0.34261\n",
        "\n",
        "*   (C: 1.5, max_iter:25): Train Score = 0.23472, Test Score = 0.19218\n",
        "*   (C: 1.5, max_iter:50): Train Score = 0.48309, Test Score = 0.32604\n",
        "*   (C: 1.5, max_iter:100): Train Score = 0.38296, Test Score = 0.29490\n",
        "*   (C: 1.5, max_iter:200): Train Score = 0.32120, Test Score = 0.24785\n",
        "*   (C: 1.5, max_iter:400): Train Score = 0.52731, Test Score = 0.35852\n",
        "\n",
        "\n",
        "\n",
        "\n",
        "실험결과 C:0.75, max_iter:400일 경우, Test Score=0.39099으로 가장 좋은 성능릉 보였다.\n",
        "\n",
        "SVM 학습 parameter C는 Regularization parameter로, Strength of the regularization은 C에 반비례하는 관계를 지닌다.\n",
        "\n",
        "때문에 max_iter값이 25인 경우, C값이 커질수록 test Score가 오히려 감소하는 경향을 보여준다. 이는 Regularization이 충분치 않아 overfitting되어 Test Score와 Train Score 간의 차이가 발생한 것이다.\n",
        "\n",
        "동일한 C값 내에서 max_iter 값이 증가할 수록 Train Score와 Test Score 모두 증가하는 경향을 보였다. \n",
        "\n",
        "실험 결과 가장 적절한 C, Max_iteration값은 (C:0.75, max_iter:400)인 case에서 Train Score=0.59233, Test Score = 0.39099를 기록하였다.\n"
      ],
      "metadata": {
        "id": "3vevrdSite_G"
      }
    },
    {
      "cell_type": "code",
      "source": [
        "C_list = [0.5, 0.75, 1, 1.25, 1.5]\n",
        "max_iter_list = [25, 50, 100, 200, 400]\n",
        "\n",
        "idx = 0\n",
        "for C in C_list:\n",
        "    for max_iter in max_iter_list:\n",
        "        print(\"problem 2-3. {} trial, C: {}, max_iter : {}\".format(idx, C, max_iter))\n",
        "        descriptor = cv2.xfeatures2d.SIFT_create()\n",
        "        model = LinearSVC(C=C, max_iter=max_iter, verbose=False)\n",
        "        patch_stride = 8\n",
        "        K = 28\n",
        "        execution_training(model, descriptor, patch_stride, K, x_train, x_test)\n",
        "        idx += 1"
      ],
      "metadata": {
        "colab": {
          "base_uri": "https://localhost:8080/"
        },
        "id": "k3GirWpVtsOk",
        "outputId": "023b4699-d70a-4cae-e168-e20fea85593f"
      },
      "execution_count": 29,
      "outputs": [
        {
          "output_type": "stream",
          "name": "stdout",
          "text": [
            "problem 2-3. 0 trial, C: 0.5, max_iter : 25\n",
            "\tStart Extract Patches\n",
            "\tStart Extract Features\n",
            "\tStart Normalizing\n",
            "\tMake Codebook ...\n"
          ]
        },
        {
          "output_type": "stream",
          "name": "stderr",
          "text": [
            "/usr/local/lib/python3.10/dist-packages/sklearn/cluster/_kmeans.py:870: FutureWarning: The default value of `n_init` will change from 10 to 'auto' in 1.4. Set the value of `n_init` explicitly to suppress the warning\n",
            "  warnings.warn(\n"
          ]
        },
        {
          "output_type": "stream",
          "name": "stdout",
          "text": [
            "\tStart Encoding Features\n",
            "\tClassify Images ...\n",
            "\n",
            "==========================================================================================\n",
            "\tTrain  Score: 0.43238\n",
            "\tTest   Score: 0.30616\n",
            "\tElapsed Time: 399.45 secs\n",
            "==========================================================================================\n",
            "problem 2-3. 1 trial, C: 0.5, max_iter : 50\n",
            "\tStart Extract Patches\n"
          ]
        },
        {
          "output_type": "stream",
          "name": "stderr",
          "text": [
            "/usr/local/lib/python3.10/dist-packages/sklearn/svm/_base.py:1244: ConvergenceWarning: Liblinear failed to converge, increase the number of iterations.\n",
            "  warnings.warn(\n"
          ]
        },
        {
          "output_type": "stream",
          "name": "stdout",
          "text": [
            "\tStart Extract Features\n",
            "\tStart Normalizing\n",
            "\tMake Codebook ...\n"
          ]
        },
        {
          "output_type": "stream",
          "name": "stderr",
          "text": [
            "/usr/local/lib/python3.10/dist-packages/sklearn/cluster/_kmeans.py:870: FutureWarning: The default value of `n_init` will change from 10 to 'auto' in 1.4. Set the value of `n_init` explicitly to suppress the warning\n",
            "  warnings.warn(\n"
          ]
        },
        {
          "output_type": "stream",
          "name": "stdout",
          "text": [
            "\tStart Encoding Features\n",
            "\tClassify Images ...\n",
            "\n",
            "==========================================================================================\n",
            "\tTrain  Score: 0.32640\n",
            "\tTest   Score: 0.26176\n",
            "\tElapsed Time: 372.72 secs\n",
            "==========================================================================================\n"
          ]
        },
        {
          "output_type": "stream",
          "name": "stderr",
          "text": [
            "/usr/local/lib/python3.10/dist-packages/sklearn/svm/_base.py:1244: ConvergenceWarning: Liblinear failed to converge, increase the number of iterations.\n",
            "  warnings.warn(\n"
          ]
        },
        {
          "output_type": "stream",
          "name": "stdout",
          "text": [
            "problem 2-3. 2 trial, C: 0.5, max_iter : 100\n",
            "\tStart Extract Patches\n",
            "\tStart Extract Features\n",
            "\tStart Normalizing\n",
            "\tMake Codebook ...\n"
          ]
        },
        {
          "output_type": "stream",
          "name": "stderr",
          "text": [
            "/usr/local/lib/python3.10/dist-packages/sklearn/cluster/_kmeans.py:870: FutureWarning: The default value of `n_init` will change from 10 to 'auto' in 1.4. Set the value of `n_init` explicitly to suppress the warning\n",
            "  warnings.warn(\n"
          ]
        },
        {
          "output_type": "stream",
          "name": "stdout",
          "text": [
            "\tStart Encoding Features\n",
            "\tClassify Images ...\n"
          ]
        },
        {
          "output_type": "stream",
          "name": "stderr",
          "text": [
            "/usr/local/lib/python3.10/dist-packages/sklearn/svm/_base.py:1244: ConvergenceWarning: Liblinear failed to converge, increase the number of iterations.\n",
            "  warnings.warn(\n"
          ]
        },
        {
          "output_type": "stream",
          "name": "stdout",
          "text": [
            "\n",
            "==========================================================================================\n",
            "\tTrain  Score: 0.54421\n",
            "\tTest   Score: 0.36978\n",
            "\tElapsed Time: 366.70 secs\n",
            "==========================================================================================\n",
            "problem 2-3. 3 trial, C: 0.5, max_iter : 200\n",
            "\tStart Extract Patches\n",
            "\tStart Extract Features\n",
            "\tStart Normalizing\n",
            "\tMake Codebook ...\n"
          ]
        },
        {
          "output_type": "stream",
          "name": "stderr",
          "text": [
            "/usr/local/lib/python3.10/dist-packages/sklearn/cluster/_kmeans.py:870: FutureWarning: The default value of `n_init` will change from 10 to 'auto' in 1.4. Set the value of `n_init` explicitly to suppress the warning\n",
            "  warnings.warn(\n"
          ]
        },
        {
          "output_type": "stream",
          "name": "stdout",
          "text": [
            "\tStart Encoding Features\n",
            "\tClassify Images ...\n"
          ]
        },
        {
          "output_type": "stream",
          "name": "stderr",
          "text": [
            "/usr/local/lib/python3.10/dist-packages/sklearn/svm/_base.py:1244: ConvergenceWarning: Liblinear failed to converge, increase the number of iterations.\n",
            "  warnings.warn(\n"
          ]
        },
        {
          "output_type": "stream",
          "name": "stdout",
          "text": [
            "\n",
            "==========================================================================================\n",
            "\tTrain  Score: 0.47984\n",
            "\tTest   Score: 0.34129\n",
            "\tElapsed Time: 448.62 secs\n",
            "==========================================================================================\n",
            "problem 2-3. 4 trial, C: 0.5, max_iter : 400\n",
            "\tStart Extract Patches\n",
            "\tStart Extract Features\n",
            "\tStart Normalizing\n",
            "\tMake Codebook ...\n"
          ]
        },
        {
          "output_type": "stream",
          "name": "stderr",
          "text": [
            "/usr/local/lib/python3.10/dist-packages/sklearn/cluster/_kmeans.py:870: FutureWarning: The default value of `n_init` will change from 10 to 'auto' in 1.4. Set the value of `n_init` explicitly to suppress the warning\n",
            "  warnings.warn(\n"
          ]
        },
        {
          "output_type": "stream",
          "name": "stdout",
          "text": [
            "\tStart Encoding Features\n",
            "\tClassify Images ...\n"
          ]
        },
        {
          "output_type": "stream",
          "name": "stderr",
          "text": [
            "/usr/local/lib/python3.10/dist-packages/sklearn/svm/_base.py:1244: ConvergenceWarning: Liblinear failed to converge, increase the number of iterations.\n",
            "  warnings.warn(\n"
          ]
        },
        {
          "output_type": "stream",
          "name": "stdout",
          "text": [
            "\n",
            "==========================================================================================\n",
            "\tTrain  Score: 0.61183\n",
            "\tTest   Score: 0.38370\n",
            "\tElapsed Time: 415.80 secs\n",
            "==========================================================================================\n",
            "problem 2-3. 5 trial, C: 0.75, max_iter : 25\n",
            "\tStart Extract Patches\n",
            "\tStart Extract Features\n",
            "\tStart Normalizing\n",
            "\tMake Codebook ...\n"
          ]
        },
        {
          "output_type": "stream",
          "name": "stderr",
          "text": [
            "/usr/local/lib/python3.10/dist-packages/sklearn/cluster/_kmeans.py:870: FutureWarning: The default value of `n_init` will change from 10 to 'auto' in 1.4. Set the value of `n_init` explicitly to suppress the warning\n",
            "  warnings.warn(\n"
          ]
        },
        {
          "output_type": "stream",
          "name": "stdout",
          "text": [
            "\tStart Encoding Features\n",
            "\tClassify Images ...\n",
            "\n",
            "==========================================================================================\n",
            "\tTrain  Score: 0.47464\n",
            "\tTest   Score: 0.35520\n",
            "\tElapsed Time: 411.00 secs\n",
            "==========================================================================================\n",
            "problem 2-3. 6 trial, C: 0.75, max_iter : 50\n",
            "\tStart Extract Patches\n"
          ]
        },
        {
          "output_type": "stream",
          "name": "stderr",
          "text": [
            "/usr/local/lib/python3.10/dist-packages/sklearn/svm/_base.py:1244: ConvergenceWarning: Liblinear failed to converge, increase the number of iterations.\n",
            "  warnings.warn(\n"
          ]
        },
        {
          "output_type": "stream",
          "name": "stdout",
          "text": [
            "\tStart Extract Features\n",
            "\tStart Normalizing\n",
            "\tMake Codebook ...\n"
          ]
        },
        {
          "output_type": "stream",
          "name": "stderr",
          "text": [
            "/usr/local/lib/python3.10/dist-packages/sklearn/cluster/_kmeans.py:870: FutureWarning: The default value of `n_init` will change from 10 to 'auto' in 1.4. Set the value of `n_init` explicitly to suppress the warning\n",
            "  warnings.warn(\n"
          ]
        },
        {
          "output_type": "stream",
          "name": "stdout",
          "text": [
            "\tStart Encoding Features\n",
            "\tClassify Images ...\n",
            "\n",
            "==========================================================================================\n",
            "\tTrain  Score: 0.46554\n",
            "\tTest   Score: 0.34924\n",
            "\tElapsed Time: 423.63 secs\n",
            "==========================================================================================\n"
          ]
        },
        {
          "output_type": "stream",
          "name": "stderr",
          "text": [
            "/usr/local/lib/python3.10/dist-packages/sklearn/svm/_base.py:1244: ConvergenceWarning: Liblinear failed to converge, increase the number of iterations.\n",
            "  warnings.warn(\n"
          ]
        },
        {
          "output_type": "stream",
          "name": "stdout",
          "text": [
            "problem 2-3. 7 trial, C: 0.75, max_iter : 100\n",
            "\tStart Extract Patches\n",
            "\tStart Extract Features\n",
            "\tStart Normalizing\n",
            "\tMake Codebook ...\n"
          ]
        },
        {
          "output_type": "stream",
          "name": "stderr",
          "text": [
            "/usr/local/lib/python3.10/dist-packages/sklearn/cluster/_kmeans.py:870: FutureWarning: The default value of `n_init` will change from 10 to 'auto' in 1.4. Set the value of `n_init` explicitly to suppress the warning\n",
            "  warnings.warn(\n"
          ]
        },
        {
          "output_type": "stream",
          "name": "stdout",
          "text": [
            "\tStart Encoding Features\n",
            "\tClassify Images ...\n"
          ]
        },
        {
          "output_type": "stream",
          "name": "stderr",
          "text": [
            "/usr/local/lib/python3.10/dist-packages/sklearn/svm/_base.py:1244: ConvergenceWarning: Liblinear failed to converge, increase the number of iterations.\n",
            "  warnings.warn(\n"
          ]
        },
        {
          "output_type": "stream",
          "name": "stdout",
          "text": [
            "\n",
            "==========================================================================================\n",
            "\tTrain  Score: 0.27893\n",
            "\tTest   Score: 0.23658\n",
            "\tElapsed Time: 371.82 secs\n",
            "==========================================================================================\n",
            "problem 2-3. 8 trial, C: 0.75, max_iter : 200\n",
            "\tStart Extract Patches\n",
            "\tStart Extract Features\n",
            "\tStart Normalizing\n",
            "\tMake Codebook ...\n"
          ]
        },
        {
          "output_type": "stream",
          "name": "stderr",
          "text": [
            "/usr/local/lib/python3.10/dist-packages/sklearn/cluster/_kmeans.py:870: FutureWarning: The default value of `n_init` will change from 10 to 'auto' in 1.4. Set the value of `n_init` explicitly to suppress the warning\n",
            "  warnings.warn(\n"
          ]
        },
        {
          "output_type": "stream",
          "name": "stdout",
          "text": [
            "\tStart Encoding Features\n",
            "\tClassify Images ...\n"
          ]
        },
        {
          "output_type": "stream",
          "name": "stderr",
          "text": [
            "/usr/local/lib/python3.10/dist-packages/sklearn/svm/_base.py:1244: ConvergenceWarning: Liblinear failed to converge, increase the number of iterations.\n",
            "  warnings.warn(\n"
          ]
        },
        {
          "output_type": "stream",
          "name": "stdout",
          "text": [
            "\n",
            "==========================================================================================\n",
            "\tTrain  Score: 0.48179\n",
            "\tTest   Score: 0.31743\n",
            "\tElapsed Time: 357.01 secs\n",
            "==========================================================================================\n",
            "problem 2-3. 9 trial, C: 0.75, max_iter : 400\n",
            "\tStart Extract Patches\n",
            "\tStart Extract Features\n",
            "\tStart Normalizing\n",
            "\tMake Codebook ...\n"
          ]
        },
        {
          "output_type": "stream",
          "name": "stderr",
          "text": [
            "/usr/local/lib/python3.10/dist-packages/sklearn/cluster/_kmeans.py:870: FutureWarning: The default value of `n_init` will change from 10 to 'auto' in 1.4. Set the value of `n_init` explicitly to suppress the warning\n",
            "  warnings.warn(\n"
          ]
        },
        {
          "output_type": "stream",
          "name": "stdout",
          "text": [
            "\tStart Encoding Features\n",
            "\tClassify Images ...\n"
          ]
        },
        {
          "output_type": "stream",
          "name": "stderr",
          "text": [
            "/usr/local/lib/python3.10/dist-packages/sklearn/svm/_base.py:1244: ConvergenceWarning: Liblinear failed to converge, increase the number of iterations.\n",
            "  warnings.warn(\n"
          ]
        },
        {
          "output_type": "stream",
          "name": "stdout",
          "text": [
            "\n",
            "==========================================================================================\n",
            "\tTrain  Score: 0.59233\n",
            "\tTest   Score: 0.39099\n",
            "\tElapsed Time: 409.24 secs\n",
            "==========================================================================================\n",
            "problem 2-3. 10 trial, C: 1, max_iter : 25\n",
            "\tStart Extract Patches\n",
            "\tStart Extract Features\n",
            "\tStart Normalizing\n",
            "\tMake Codebook ...\n"
          ]
        },
        {
          "output_type": "stream",
          "name": "stderr",
          "text": [
            "/usr/local/lib/python3.10/dist-packages/sklearn/cluster/_kmeans.py:870: FutureWarning: The default value of `n_init` will change from 10 to 'auto' in 1.4. Set the value of `n_init` explicitly to suppress the warning\n",
            "  warnings.warn(\n"
          ]
        },
        {
          "output_type": "stream",
          "name": "stdout",
          "text": [
            "\tStart Encoding Features\n",
            "\tClassify Images ...\n",
            "\n",
            "==========================================================================================\n",
            "\tTrain  Score: 0.39012\n",
            "\tTest   Score: 0.30219\n",
            "\tElapsed Time: 428.63 secs\n",
            "==========================================================================================\n",
            "problem 2-3. 11 trial, C: 1, max_iter : 50\n",
            "\tStart Extract Patches\n"
          ]
        },
        {
          "output_type": "stream",
          "name": "stderr",
          "text": [
            "/usr/local/lib/python3.10/dist-packages/sklearn/svm/_base.py:1244: ConvergenceWarning: Liblinear failed to converge, increase the number of iterations.\n",
            "  warnings.warn(\n"
          ]
        },
        {
          "output_type": "stream",
          "name": "stdout",
          "text": [
            "\tStart Extract Features\n",
            "\tStart Normalizing\n",
            "\tMake Codebook ...\n"
          ]
        },
        {
          "output_type": "stream",
          "name": "stderr",
          "text": [
            "/usr/local/lib/python3.10/dist-packages/sklearn/cluster/_kmeans.py:870: FutureWarning: The default value of `n_init` will change from 10 to 'auto' in 1.4. Set the value of `n_init` explicitly to suppress the warning\n",
            "  warnings.warn(\n"
          ]
        },
        {
          "output_type": "stream",
          "name": "stdout",
          "text": [
            "\tStart Encoding Features\n",
            "\tClassify Images ...\n"
          ]
        },
        {
          "output_type": "stream",
          "name": "stderr",
          "text": [
            "/usr/local/lib/python3.10/dist-packages/sklearn/svm/_base.py:1244: ConvergenceWarning: Liblinear failed to converge, increase the number of iterations.\n",
            "  warnings.warn(\n"
          ]
        },
        {
          "output_type": "stream",
          "name": "stdout",
          "text": [
            "\n",
            "==========================================================================================\n",
            "\tTrain  Score: 0.29974\n",
            "\tTest   Score: 0.23791\n",
            "\tElapsed Time: 385.42 secs\n",
            "==========================================================================================\n",
            "problem 2-3. 12 trial, C: 1, max_iter : 100\n",
            "\tStart Extract Patches\n",
            "\tStart Extract Features\n",
            "\tStart Normalizing\n",
            "\tMake Codebook ...\n"
          ]
        },
        {
          "output_type": "stream",
          "name": "stderr",
          "text": [
            "/usr/local/lib/python3.10/dist-packages/sklearn/cluster/_kmeans.py:870: FutureWarning: The default value of `n_init` will change from 10 to 'auto' in 1.4. Set the value of `n_init` explicitly to suppress the warning\n",
            "  warnings.warn(\n"
          ]
        },
        {
          "output_type": "stream",
          "name": "stdout",
          "text": [
            "\tStart Encoding Features\n",
            "\tClassify Images ...\n"
          ]
        },
        {
          "output_type": "stream",
          "name": "stderr",
          "text": [
            "/usr/local/lib/python3.10/dist-packages/sklearn/svm/_base.py:1244: ConvergenceWarning: Liblinear failed to converge, increase the number of iterations.\n",
            "  warnings.warn(\n"
          ]
        },
        {
          "output_type": "stream",
          "name": "stdout",
          "text": [
            "\n",
            "==========================================================================================\n",
            "\tTrain  Score: 0.40832\n",
            "\tTest   Score: 0.29689\n",
            "\tElapsed Time: 348.06 secs\n",
            "==========================================================================================\n",
            "problem 2-3. 13 trial, C: 1, max_iter : 200\n",
            "\tStart Extract Patches\n",
            "\tStart Extract Features\n",
            "\tStart Normalizing\n",
            "\tMake Codebook ...\n"
          ]
        },
        {
          "output_type": "stream",
          "name": "stderr",
          "text": [
            "/usr/local/lib/python3.10/dist-packages/sklearn/cluster/_kmeans.py:870: FutureWarning: The default value of `n_init` will change from 10 to 'auto' in 1.4. Set the value of `n_init` explicitly to suppress the warning\n",
            "  warnings.warn(\n"
          ]
        },
        {
          "output_type": "stream",
          "name": "stdout",
          "text": [
            "\tStart Encoding Features\n",
            "\tClassify Images ...\n"
          ]
        },
        {
          "output_type": "stream",
          "name": "stderr",
          "text": [
            "/usr/local/lib/python3.10/dist-packages/sklearn/svm/_base.py:1244: ConvergenceWarning: Liblinear failed to converge, increase the number of iterations.\n",
            "  warnings.warn(\n"
          ]
        },
        {
          "output_type": "stream",
          "name": "stdout",
          "text": [
            "\n",
            "==========================================================================================\n",
            "\tTrain  Score: 0.38817\n",
            "\tTest   Score: 0.29225\n",
            "\tElapsed Time: 365.21 secs\n",
            "==========================================================================================\n",
            "problem 2-3. 14 trial, C: 1, max_iter : 400\n",
            "\tStart Extract Patches\n",
            "\tStart Extract Features\n",
            "\tStart Normalizing\n",
            "\tMake Codebook ...\n"
          ]
        },
        {
          "output_type": "stream",
          "name": "stderr",
          "text": [
            "/usr/local/lib/python3.10/dist-packages/sklearn/cluster/_kmeans.py:870: FutureWarning: The default value of `n_init` will change from 10 to 'auto' in 1.4. Set the value of `n_init` explicitly to suppress the warning\n",
            "  warnings.warn(\n"
          ]
        },
        {
          "output_type": "stream",
          "name": "stdout",
          "text": [
            "\tStart Encoding Features\n",
            "\tClassify Images ...\n"
          ]
        },
        {
          "output_type": "stream",
          "name": "stderr",
          "text": [
            "/usr/local/lib/python3.10/dist-packages/sklearn/svm/_base.py:1244: ConvergenceWarning: Liblinear failed to converge, increase the number of iterations.\n",
            "  warnings.warn(\n"
          ]
        },
        {
          "output_type": "stream",
          "name": "stdout",
          "text": [
            "\n",
            "==========================================================================================\n",
            "\tTrain  Score: 0.51886\n",
            "\tTest   Score: 0.37707\n",
            "\tElapsed Time: 338.25 secs\n",
            "==========================================================================================\n",
            "problem 2-3. 15 trial, C: 1.25, max_iter : 25\n",
            "\tStart Extract Patches\n",
            "\tStart Extract Features\n",
            "\tStart Normalizing\n",
            "\tMake Codebook ...\n"
          ]
        },
        {
          "output_type": "stream",
          "name": "stderr",
          "text": [
            "/usr/local/lib/python3.10/dist-packages/sklearn/cluster/_kmeans.py:870: FutureWarning: The default value of `n_init` will change from 10 to 'auto' in 1.4. Set the value of `n_init` explicitly to suppress the warning\n",
            "  warnings.warn(\n"
          ]
        },
        {
          "output_type": "stream",
          "name": "stdout",
          "text": [
            "\tStart Encoding Features\n",
            "\tClassify Images ...\n",
            "\n",
            "==========================================================================================\n",
            "\tTrain  Score: 0.30884\n",
            "\tTest   Score: 0.22929\n",
            "\tElapsed Time: 347.77 secs\n",
            "==========================================================================================\n",
            "problem 2-3. 16 trial, C: 1.25, max_iter : 50\n",
            "\tStart Extract Patches\n"
          ]
        },
        {
          "output_type": "stream",
          "name": "stderr",
          "text": [
            "/usr/local/lib/python3.10/dist-packages/sklearn/svm/_base.py:1244: ConvergenceWarning: Liblinear failed to converge, increase the number of iterations.\n",
            "  warnings.warn(\n"
          ]
        },
        {
          "output_type": "stream",
          "name": "stdout",
          "text": [
            "\tStart Extract Features\n",
            "\tStart Normalizing\n",
            "\tMake Codebook ...\n"
          ]
        },
        {
          "output_type": "stream",
          "name": "stderr",
          "text": [
            "/usr/local/lib/python3.10/dist-packages/sklearn/cluster/_kmeans.py:870: FutureWarning: The default value of `n_init` will change from 10 to 'auto' in 1.4. Set the value of `n_init` explicitly to suppress the warning\n",
            "  warnings.warn(\n"
          ]
        },
        {
          "output_type": "stream",
          "name": "stdout",
          "text": [
            "\tStart Encoding Features\n",
            "\tClassify Images ...\n"
          ]
        },
        {
          "output_type": "stream",
          "name": "stderr",
          "text": [
            "/usr/local/lib/python3.10/dist-packages/sklearn/svm/_base.py:1244: ConvergenceWarning: Liblinear failed to converge, increase the number of iterations.\n",
            "  warnings.warn(\n"
          ]
        },
        {
          "output_type": "stream",
          "name": "stdout",
          "text": [
            "\n",
            "==========================================================================================\n",
            "\tTrain  Score: 0.45189\n",
            "\tTest   Score: 0.33665\n",
            "\tElapsed Time: 376.19 secs\n",
            "==========================================================================================\n",
            "problem 2-3. 17 trial, C: 1.25, max_iter : 100\n",
            "\tStart Extract Patches\n",
            "\tStart Extract Features\n",
            "\tStart Normalizing\n",
            "\tMake Codebook ...\n"
          ]
        },
        {
          "output_type": "stream",
          "name": "stderr",
          "text": [
            "/usr/local/lib/python3.10/dist-packages/sklearn/cluster/_kmeans.py:870: FutureWarning: The default value of `n_init` will change from 10 to 'auto' in 1.4. Set the value of `n_init` explicitly to suppress the warning\n",
            "  warnings.warn(\n"
          ]
        },
        {
          "output_type": "stream",
          "name": "stdout",
          "text": [
            "\tStart Encoding Features\n",
            "\tClassify Images ...\n"
          ]
        },
        {
          "output_type": "stream",
          "name": "stderr",
          "text": [
            "/usr/local/lib/python3.10/dist-packages/sklearn/svm/_base.py:1244: ConvergenceWarning: Liblinear failed to converge, increase the number of iterations.\n",
            "  warnings.warn(\n"
          ]
        },
        {
          "output_type": "stream",
          "name": "stdout",
          "text": [
            "\n",
            "==========================================================================================\n",
            "\tTrain  Score: 0.46684\n",
            "\tTest   Score: 0.34261\n",
            "\tElapsed Time: 409.71 secs\n",
            "==========================================================================================\n",
            "problem 2-3. 18 trial, C: 1.25, max_iter : 200\n",
            "\tStart Extract Patches\n",
            "\tStart Extract Features\n",
            "\tStart Normalizing\n",
            "\tMake Codebook ...\n"
          ]
        },
        {
          "output_type": "stream",
          "name": "stderr",
          "text": [
            "/usr/local/lib/python3.10/dist-packages/sklearn/cluster/_kmeans.py:870: FutureWarning: The default value of `n_init` will change from 10 to 'auto' in 1.4. Set the value of `n_init` explicitly to suppress the warning\n",
            "  warnings.warn(\n"
          ]
        },
        {
          "output_type": "stream",
          "name": "stdout",
          "text": [
            "\tStart Encoding Features\n",
            "\tClassify Images ...\n"
          ]
        },
        {
          "output_type": "stream",
          "name": "stderr",
          "text": [
            "/usr/local/lib/python3.10/dist-packages/sklearn/svm/_base.py:1244: ConvergenceWarning: Liblinear failed to converge, increase the number of iterations.\n",
            "  warnings.warn(\n"
          ]
        },
        {
          "output_type": "stream",
          "name": "stdout",
          "text": [
            "\n",
            "==========================================================================================\n",
            "\tTrain  Score: 0.37841\n",
            "\tTest   Score: 0.29622\n",
            "\tElapsed Time: 383.12 secs\n",
            "==========================================================================================\n",
            "problem 2-3. 19 trial, C: 1.25, max_iter : 400\n",
            "\tStart Extract Patches\n",
            "\tStart Extract Features\n",
            "\tStart Normalizing\n",
            "\tMake Codebook ...\n"
          ]
        },
        {
          "output_type": "stream",
          "name": "stderr",
          "text": [
            "/usr/local/lib/python3.10/dist-packages/sklearn/cluster/_kmeans.py:870: FutureWarning: The default value of `n_init` will change from 10 to 'auto' in 1.4. Set the value of `n_init` explicitly to suppress the warning\n",
            "  warnings.warn(\n"
          ]
        },
        {
          "output_type": "stream",
          "name": "stdout",
          "text": [
            "\tStart Encoding Features\n",
            "\tClassify Images ...\n"
          ]
        },
        {
          "output_type": "stream",
          "name": "stderr",
          "text": [
            "/usr/local/lib/python3.10/dist-packages/sklearn/svm/_base.py:1244: ConvergenceWarning: Liblinear failed to converge, increase the number of iterations.\n",
            "  warnings.warn(\n"
          ]
        },
        {
          "output_type": "stream",
          "name": "stdout",
          "text": [
            "\n",
            "==========================================================================================\n",
            "\tTrain  Score: 0.52406\n",
            "\tTest   Score: 0.34261\n",
            "\tElapsed Time: 349.88 secs\n",
            "==========================================================================================\n",
            "problem 2-3. 20 trial, C: 1.5, max_iter : 25\n",
            "\tStart Extract Patches\n",
            "\tStart Extract Features\n",
            "\tStart Normalizing\n",
            "\tMake Codebook ...\n"
          ]
        },
        {
          "output_type": "stream",
          "name": "stderr",
          "text": [
            "/usr/local/lib/python3.10/dist-packages/sklearn/cluster/_kmeans.py:870: FutureWarning: The default value of `n_init` will change from 10 to 'auto' in 1.4. Set the value of `n_init` explicitly to suppress the warning\n",
            "  warnings.warn(\n"
          ]
        },
        {
          "output_type": "stream",
          "name": "stdout",
          "text": [
            "\tStart Encoding Features\n",
            "\tClassify Images ...\n",
            "\n",
            "==========================================================================================\n",
            "\tTrain  Score: 0.23472\n",
            "\tTest   Score: 0.19218\n",
            "\tElapsed Time: 359.26 secs\n",
            "==========================================================================================\n",
            "problem 2-3. 21 trial, C: 1.5, max_iter : 50\n",
            "\tStart Extract Patches\n"
          ]
        },
        {
          "output_type": "stream",
          "name": "stderr",
          "text": [
            "/usr/local/lib/python3.10/dist-packages/sklearn/svm/_base.py:1244: ConvergenceWarning: Liblinear failed to converge, increase the number of iterations.\n",
            "  warnings.warn(\n"
          ]
        },
        {
          "output_type": "stream",
          "name": "stdout",
          "text": [
            "\tStart Extract Features\n",
            "\tStart Normalizing\n",
            "\tMake Codebook ...\n"
          ]
        },
        {
          "output_type": "stream",
          "name": "stderr",
          "text": [
            "/usr/local/lib/python3.10/dist-packages/sklearn/cluster/_kmeans.py:870: FutureWarning: The default value of `n_init` will change from 10 to 'auto' in 1.4. Set the value of `n_init` explicitly to suppress the warning\n",
            "  warnings.warn(\n"
          ]
        },
        {
          "output_type": "stream",
          "name": "stdout",
          "text": [
            "\tStart Encoding Features\n",
            "\tClassify Images ...\n",
            "\n",
            "==========================================================================================\n",
            "\tTrain  Score: 0.48309\n",
            "\tTest   Score: 0.32604\n",
            "\tElapsed Time: 341.99 secs\n",
            "==========================================================================================\n",
            "problem 2-3. 22 trial, C: 1.5, max_iter : 100"
          ]
        },
        {
          "output_type": "stream",
          "name": "stderr",
          "text": [
            "/usr/local/lib/python3.10/dist-packages/sklearn/svm/_base.py:1244: ConvergenceWarning: Liblinear failed to converge, increase the number of iterations.\n",
            "  warnings.warn(\n"
          ]
        },
        {
          "output_type": "stream",
          "name": "stdout",
          "text": [
            "\n",
            "\tStart Extract Patches\n",
            "\tStart Extract Features\n",
            "\tStart Normalizing\n",
            "\tMake Codebook ...\n"
          ]
        },
        {
          "output_type": "stream",
          "name": "stderr",
          "text": [
            "/usr/local/lib/python3.10/dist-packages/sklearn/cluster/_kmeans.py:870: FutureWarning: The default value of `n_init` will change from 10 to 'auto' in 1.4. Set the value of `n_init` explicitly to suppress the warning\n",
            "  warnings.warn(\n"
          ]
        },
        {
          "output_type": "stream",
          "name": "stdout",
          "text": [
            "\tStart Encoding Features\n",
            "\tClassify Images ...\n"
          ]
        },
        {
          "output_type": "stream",
          "name": "stderr",
          "text": [
            "/usr/local/lib/python3.10/dist-packages/sklearn/svm/_base.py:1244: ConvergenceWarning: Liblinear failed to converge, increase the number of iterations.\n",
            "  warnings.warn(\n"
          ]
        },
        {
          "output_type": "stream",
          "name": "stdout",
          "text": [
            "\n",
            "==========================================================================================\n",
            "\tTrain  Score: 0.38296\n",
            "\tTest   Score: 0.29490\n",
            "\tElapsed Time: 403.74 secs\n",
            "==========================================================================================\n",
            "problem 2-3. 23 trial, C: 1.5, max_iter : 200\n",
            "\tStart Extract Patches\n",
            "\tStart Extract Features\n",
            "\tStart Normalizing\n",
            "\tMake Codebook ...\n"
          ]
        },
        {
          "output_type": "stream",
          "name": "stderr",
          "text": [
            "/usr/local/lib/python3.10/dist-packages/sklearn/cluster/_kmeans.py:870: FutureWarning: The default value of `n_init` will change from 10 to 'auto' in 1.4. Set the value of `n_init` explicitly to suppress the warning\n",
            "  warnings.warn(\n"
          ]
        },
        {
          "output_type": "stream",
          "name": "stdout",
          "text": [
            "\tStart Encoding Features\n",
            "\tClassify Images ...\n"
          ]
        },
        {
          "output_type": "stream",
          "name": "stderr",
          "text": [
            "/usr/local/lib/python3.10/dist-packages/sklearn/svm/_base.py:1244: ConvergenceWarning: Liblinear failed to converge, increase the number of iterations.\n",
            "  warnings.warn(\n"
          ]
        },
        {
          "output_type": "stream",
          "name": "stdout",
          "text": [
            "\n",
            "==========================================================================================\n",
            "\tTrain  Score: 0.32120\n",
            "\tTest   Score: 0.24785\n",
            "\tElapsed Time: 363.25 secs\n",
            "==========================================================================================\n",
            "problem 2-3. 24 trial, C: 1.5, max_iter : 400\n",
            "\tStart Extract Patches\n",
            "\tStart Extract Features\n",
            "\tStart Normalizing\n",
            "\tMake Codebook ...\n"
          ]
        },
        {
          "output_type": "stream",
          "name": "stderr",
          "text": [
            "/usr/local/lib/python3.10/dist-packages/sklearn/cluster/_kmeans.py:870: FutureWarning: The default value of `n_init` will change from 10 to 'auto' in 1.4. Set the value of `n_init` explicitly to suppress the warning\n",
            "  warnings.warn(\n"
          ]
        },
        {
          "output_type": "stream",
          "name": "stdout",
          "text": [
            "\tStart Encoding Features\n",
            "\tClassify Images ...\n",
            "\n",
            "==========================================================================================\n",
            "\tTrain  Score: 0.52731\n",
            "\tTest   Score: 0.35852\n",
            "\tElapsed Time: 383.30 secs\n",
            "==========================================================================================\n"
          ]
        },
        {
          "output_type": "stream",
          "name": "stderr",
          "text": [
            "/usr/local/lib/python3.10/dist-packages/sklearn/svm/_base.py:1244: ConvergenceWarning: Liblinear failed to converge, increase the number of iterations.\n",
            "  warnings.warn(\n"
          ]
        }
      ]
    },
    {
      "cell_type": "markdown",
      "source": [
        "#### 2-4. 실험 결과를 토대로 Best Model을 선정하고, Best Model의 Confusion matrix를 그리고 분석하세요.\n",
        "\n",
        "Best Model의 Confusion Matrix는 아래와 같다.\n",
        "\n",
        "    [[28  4  1  4  5  2  5  4  2  9 11 12 22  0  0]\n",
        "    [ 2 48  4 11  0  0  0  0  6  2 18  1  7  0  1]\n",
        "    [ 0  1 72  0  0  0  0  0  2  0  2 19  4  0  0]\n",
        "    [ 2  8  0 43 10  2  2  1  2  2  9  1 13  1  4]\n",
        "    [ 6  3  0  5  5  0  6  1  2  4  1 25 38  4  0]\n",
        "    [ 4  1  0  2  5 18  0  0  0  9  0 26 29  3  3]\n",
        "    [14  1  0  0  3  2 16  4  1 14  1 14 26  1  3]\n",
        "    [13  0  0  2  1  0  6  8  0  8  0 30 26  4  2]\n",
        "    [ 1 12  4  4  0  0  0  2 35  0 15  8 18  1  0]\n",
        "    [19  1  0  1  2  5 12  6  1 16  0 20 16  0  1]\n",
        "    [ 3 20  4  4  0  0  0  0  9  0 36  7 13  1  3]\n",
        "    [ 2  0  1  0  0  1  2  0  1  0  0 72 18  3  0]\n",
        "    [ 2  0  0  0  0  1  0  2  2  2  1 24 64  0  2]\n",
        "    [ 0  0  0  0  1  0  0  2  0  0  1 34  7 54  1]\n",
        "    [ 4  3  1  6  1  5  0  1  0  2  4 12 31  1 29]]\n",
        "\n",
        "Confusion Matrix를 보면 Class 별로 정답률의 차이가 있음을 알 수 있다.\n",
        "\n",
        "가장 높은 정답률을 기록한 class는 3번째 Class('Forest')이다. 반면에 5번째 class('Industrial')의 경우 낮은 정답률을 보였다.\n",
        "\n",
        "Class 별로 정답률의 차이를 보인 이유는 분류하고자 하는 class 별로 복잡한 정도가 다르기 때문이다. 실제 Industrial Folder 내의 image들을 열어 보면, 공통된 특징을 발견하기 굉장히 힘들다. 반면 Forest Folder 내의 image들은 유사한 특징을 발견하기 비교적 쉬움을 알 수 있다."
      ],
      "metadata": {
        "id": "CVa-QANjMuFm"
      }
    },
    {
      "cell_type": "code",
      "source": [
        "from sklearn.metrics import confusion_matrix\n",
        "\n",
        "def best_model_confusion_matrix(model, descriptor, patch_stride, K, x_train, x_test):\n",
        "    start_time = time.time()\n",
        "\n",
        "    ###extract patches\n",
        "    train_key_points, train_feature_shapes, test_key_points, test_feature_shapes = extract_patches(x_train, x_test, patch_stride)\n",
        "\n",
        "    ###extract features\n",
        "    train_normalized_features, test_normalized_features, flattened_train_features, pca = extract_features(descriptor, x_train, train_key_points, x_test, test_key_points)\n",
        "\n",
        "    ###training models\n",
        "    flattened_normalized_train_features = pca.transform(flattened_train_features)\n",
        "    codebook = Codebook(K)\n",
        "    codebook.make_code_words(flattened_normalized_train_features)\n",
        "\n",
        "    train_encoded_features = list()\n",
        "    index = 0\n",
        "    for features, shapes in zip(train_normalized_features, train_feature_shapes):\n",
        "        encoded_features = codebook.encode(features, shapes)\n",
        "        train_encoded_features.append(encoded_features)\n",
        "        index += 1\n",
        "\n",
        "    test_encoded_features = list()\n",
        "    index = 0\n",
        "    for features, shapes in zip(test_normalized_features, test_feature_shapes):\n",
        "        encoded_features = codebook.encode(features, shapes)\n",
        "        test_encoded_features.append(encoded_features)\n",
        "        index += 1\n",
        "    \n",
        "    chi2sampler = AdditiveChi2Sampler(sample_steps=2)\n",
        "    chi2sampler.fit(train_encoded_features, y_train)\n",
        "    train_encoded_features = chi2sampler.transform(train_encoded_features)\n",
        "    test_encoded_features = chi2sampler.transform(test_encoded_features)\n",
        "\n",
        "    model.fit(train_encoded_features, y_train)\n",
        "\n",
        "    ###make confusion matrix\n",
        "    y_pred = model.predict(test_encoded_features)\n",
        "\n",
        "    cf = confusion_matrix(y_true = y_test, y_pred = y_pred)\n",
        "\n",
        "    elapsed_time = time.time() - start_time\n",
        "\n",
        "    '''\n",
        "    Print Results\n",
        "    '''\n",
        "    print()\n",
        "    print(\"=\" * 90)\n",
        "    print(\"confusion matrix!!!\")\n",
        "    print(cf)\n",
        "    print(\"=\" * 90)"
      ],
      "metadata": {
        "id": "3ZHS-2T1ZH_Y"
      },
      "execution_count": 31,
      "outputs": []
    },
    {
      "cell_type": "code",
      "source": [
        "print(\"problem 2-4. Best Model: patch_stride = 8, K=28, C=0.75, Max_iter=400\")\n",
        "\n",
        "descriptor = cv2.xfeatures2d.SIFT_create()\n",
        "model = LinearSVC(C=0.75, max_iter=400, verbose=False)\n",
        "patch_stride = 8\n",
        "K = 28\n",
        "best_model_confusion_matrix(model, descriptor, patch_stride, K, x_train, x_test)"
      ],
      "metadata": {
        "colab": {
          "base_uri": "https://localhost:8080/"
        },
        "id": "Ni8qQFh_LWn-",
        "outputId": "9d792311-03c7-40e6-c498-6291e518912f"
      },
      "execution_count": 32,
      "outputs": [
        {
          "output_type": "stream",
          "name": "stdout",
          "text": [
            "problem 2-4. Best Model: patch_stride = 8, K=28, C=0.75, Max_iter=400\n",
            "\tStart Extract Patches\n",
            "\tStart Extract Features\n",
            "\tStart Normalizing\n"
          ]
        },
        {
          "output_type": "stream",
          "name": "stderr",
          "text": [
            "/usr/local/lib/python3.10/dist-packages/sklearn/cluster/_kmeans.py:870: FutureWarning: The default value of `n_init` will change from 10 to 'auto' in 1.4. Set the value of `n_init` explicitly to suppress the warning\n",
            "  warnings.warn(\n"
          ]
        },
        {
          "output_type": "stream",
          "name": "stdout",
          "text": [
            "\n",
            "==========================================================================================\n",
            "confusion matrix!!!\n",
            "[[28  4  1  4  5  2  5  4  2  9 11 12 22  0  0]\n",
            " [ 2 48  4 11  0  0  0  0  6  2 18  1  7  0  1]\n",
            " [ 0  1 72  0  0  0  0  0  2  0  2 19  4  0  0]\n",
            " [ 2  8  0 43 10  2  2  1  2  2  9  1 13  1  4]\n",
            " [ 6  3  0  5  5  0  6  1  2  4  1 25 38  4  0]\n",
            " [ 4  1  0  2  5 18  0  0  0  9  0 26 29  3  3]\n",
            " [14  1  0  0  3  2 16  4  1 14  1 14 26  1  3]\n",
            " [13  0  0  2  1  0  6  8  0  8  0 30 26  4  2]\n",
            " [ 1 12  4  4  0  0  0  2 35  0 15  8 18  1  0]\n",
            " [19  1  0  1  2  5 12  6  1 16  0 20 16  0  1]\n",
            " [ 3 20  4  4  0  0  0  0  9  0 36  7 13  1  3]\n",
            " [ 2  0  1  0  0  1  2  0  1  0  0 72 18  3  0]\n",
            " [ 2  0  0  0  0  1  0  2  2  2  1 24 64  0  2]\n",
            " [ 0  0  0  0  1  0  0  2  0  0  1 34  7 54  1]\n",
            " [ 4  3  1  6  1  5  0  1  0  2  4 12 31  1 29]]\n",
            "==========================================================================================\n"
          ]
        },
        {
          "output_type": "stream",
          "name": "stderr",
          "text": [
            "/usr/local/lib/python3.10/dist-packages/sklearn/svm/_base.py:1244: ConvergenceWarning: Liblinear failed to converge, increase the number of iterations.\n",
            "  warnings.warn(\n"
          ]
        }
      ]
    },
    {
      "cell_type": "markdown",
      "source": [
        "### 문제3. 알고리즘 개선\n",
        "#### 3-1. 템플릿 코드를 기반으로 구현한 현재 모델은 분류를 위해 SVM을 사용하고 있다. Skleran package에서 SVM외의 다른 classfier를 2가지 이상 사용하여 실험을 진행하고 결과를 분석하세요.\n",
        "\n",
        "SVM 이외에 Decision Tree, MLP classifier를 이용하여 실험을 진행하였다.\n",
        "\n",
        "1. Decision Tree 실험 결과\n",
        "    \n",
        "    Train Score: 1.0\n",
        "    Test Score: 0.27700\n",
        "\n",
        "2. MLP 실험 결과\n",
        "    \n",
        "  (hidden layer: (3, 10))\n",
        "    - Train Score: 0.41287\n",
        "    - Test Score: 0.36315\n",
        "\n",
        "  (hidden layer: (5, 10))\n",
        "    - Train Score: 0.46879\n",
        "    - Test Score: 0.38370\n",
        "  \n",
        "  (hidden layer: (7, 10))\n",
        "    - Train Score: 0.50650\n",
        "    - Test Score: 0.39695\n",
        "\n",
        "  (hidden layer: (9, 10))\n",
        "    - Train Score: 0.50000\n",
        "    - Test Score: 0.41286\n",
        "  \n",
        "  (hidden layer: (15, 0))\n",
        "    - Train Score: 0.51040\n",
        "    - Test Score: 0.40358\n",
        "\n",
        "Decision Tree를 사용하여 classification을 수행하였을 때 model이 overfitting 되어 있음을 확인할 수 있다.(Train Score=1.0, Test Score=0.27700) 별도의 parameter 설정 없이 Default 값들을 사용하여 학습을 진행하였는데, 가지치기와 같은 overfitting을 제어하기 위한 추가적인 설정을 추가한다면 overfitting을 제어할 수 있을 것으로 판단된다.\n",
        "\n",
        "MLP를 사용하여 classification을 수행하였을 때, hidden layer 9개까지 test score가 증가하는 것을 관찰 할 수 있다. 그 이후부터는 model이 overfitting 되어 test score가 감소함을 확인할 수 있었다."
      ],
      "metadata": {
        "id": "0dzLCu8VW42A"
      }
    },
    {
      "cell_type": "code",
      "source": [
        "from sklearn import tree\n",
        "\n",
        "print(\"problem 3-1. model: Decision Tree\")\n",
        "descriptor = cv2.xfeatures2d.SIFT_create()\n",
        "model = tree.DecisionTreeClassifier()\n",
        "patch_stride = 8\n",
        "K = 28\n",
        "execution_training(model, descriptor, patch_stride, K, x_train, x_test)"
      ],
      "metadata": {
        "colab": {
          "base_uri": "https://localhost:8080/"
        },
        "id": "eWvrQ8YNUFkM",
        "outputId": "f0b49ac7-b5ff-44c6-e1e6-cf54e2f4cf36"
      },
      "execution_count": 10,
      "outputs": [
        {
          "output_type": "stream",
          "name": "stdout",
          "text": [
            "problem 3-1. model: Decision Tree\n",
            "\tStart Extract Patches\n",
            "\tStart Extract Features\n",
            "\tStart Normalizing\n",
            "\tMake Codebook ...\n"
          ]
        },
        {
          "output_type": "stream",
          "name": "stderr",
          "text": [
            "/usr/local/lib/python3.10/dist-packages/sklearn/cluster/_kmeans.py:870: FutureWarning: The default value of `n_init` will change from 10 to 'auto' in 1.4. Set the value of `n_init` explicitly to suppress the warning\n",
            "  warnings.warn(\n"
          ]
        },
        {
          "output_type": "stream",
          "name": "stdout",
          "text": [
            "\tStart Encoding Features\n",
            "\tClassify Images ...\n",
            "\n",
            "==========================================================================================\n",
            "\tTrain  Score: 1.00000\n",
            "\tTest   Score: 0.27700\n",
            "\tElapsed Time: 336.83 secs\n",
            "==========================================================================================\n"
          ]
        }
      ]
    },
    {
      "cell_type": "code",
      "source": [
        "from sklearn.neural_network import MLPClassifier\n",
        "\n",
        "print(\"problem 3-1. model: MLP, hidden layer sizes = (3, 10)\")\n",
        "descriptor = cv2.xfeatures2d.SIFT_create()\n",
        "model = MLPClassifier(hidden_layer_sizes=(3, 10), random_state=1, max_iter = 400)\n",
        "patch_stride = 8\n",
        "K = 28\n",
        "execution_training(model, descriptor, patch_stride, K, x_train, x_test)"
      ],
      "metadata": {
        "colab": {
          "base_uri": "https://localhost:8080/"
        },
        "id": "vqkenMsEXx8j",
        "outputId": "a68b8b9a-9ece-49e7-d22f-5d2ce3c54f59"
      },
      "execution_count": 12,
      "outputs": [
        {
          "output_type": "stream",
          "name": "stdout",
          "text": [
            "problem 3-1. model: MLP, hidden layer sizes = (3, 10)\n",
            "\tStart Extract Patches\n",
            "\tStart Extract Features\n",
            "\tStart Normalizing\n",
            "\tMake Codebook ...\n"
          ]
        },
        {
          "output_type": "stream",
          "name": "stderr",
          "text": [
            "/usr/local/lib/python3.10/dist-packages/sklearn/cluster/_kmeans.py:870: FutureWarning: The default value of `n_init` will change from 10 to 'auto' in 1.4. Set the value of `n_init` explicitly to suppress the warning\n",
            "  warnings.warn(\n"
          ]
        },
        {
          "output_type": "stream",
          "name": "stdout",
          "text": [
            "\tStart Encoding Features\n",
            "\tClassify Images ...\n",
            "\n",
            "==========================================================================================\n",
            "\tTrain  Score: 0.41287\n",
            "\tTest   Score: 0.36315\n",
            "\tElapsed Time: 380.50 secs\n",
            "==========================================================================================\n"
          ]
        },
        {
          "output_type": "stream",
          "name": "stderr",
          "text": [
            "/usr/local/lib/python3.10/dist-packages/sklearn/neural_network/_multilayer_perceptron.py:686: ConvergenceWarning: Stochastic Optimizer: Maximum iterations (400) reached and the optimization hasn't converged yet.\n",
            "  warnings.warn(\n"
          ]
        }
      ]
    },
    {
      "cell_type": "code",
      "source": [
        "from sklearn.neural_network import MLPClassifier\n",
        "\n",
        "print(\"problem 3-1. model: MLP, hidden layer sizes = (5, 10)\")\n",
        "descriptor = cv2.xfeatures2d.SIFT_create()\n",
        "model = MLPClassifier(hidden_layer_sizes=(5, 10), random_state=1, max_iter = 400)\n",
        "patch_stride = 8\n",
        "K = 28\n",
        "execution_training(model, descriptor, patch_stride, K, x_train, x_test)"
      ],
      "metadata": {
        "colab": {
          "base_uri": "https://localhost:8080/"
        },
        "id": "Cxk5K4AUaP5t",
        "outputId": "854bbfd8-ddb7-473c-d561-4892e0ba2c50"
      },
      "execution_count": 13,
      "outputs": [
        {
          "output_type": "stream",
          "name": "stdout",
          "text": [
            "problem 3-1. model: MLP, hidden layer sizes = (5, 10)\n",
            "\tStart Extract Patches\n",
            "\tStart Extract Features\n",
            "\tStart Normalizing\n",
            "\tMake Codebook ...\n"
          ]
        },
        {
          "output_type": "stream",
          "name": "stderr",
          "text": [
            "/usr/local/lib/python3.10/dist-packages/sklearn/cluster/_kmeans.py:870: FutureWarning: The default value of `n_init` will change from 10 to 'auto' in 1.4. Set the value of `n_init` explicitly to suppress the warning\n",
            "  warnings.warn(\n"
          ]
        },
        {
          "output_type": "stream",
          "name": "stdout",
          "text": [
            "\tStart Encoding Features\n",
            "\tClassify Images ...\n",
            "\n",
            "==========================================================================================\n",
            "\tTrain  Score: 0.46879\n",
            "\tTest   Score: 0.38370\n",
            "\tElapsed Time: 335.13 secs\n",
            "==========================================================================================\n"
          ]
        },
        {
          "output_type": "stream",
          "name": "stderr",
          "text": [
            "/usr/local/lib/python3.10/dist-packages/sklearn/neural_network/_multilayer_perceptron.py:686: ConvergenceWarning: Stochastic Optimizer: Maximum iterations (400) reached and the optimization hasn't converged yet.\n",
            "  warnings.warn(\n"
          ]
        }
      ]
    },
    {
      "cell_type": "code",
      "source": [
        "from sklearn.neural_network import MLPClassifier\n",
        "\n",
        "print(\"problem 3-1. model: MLP, hidden layer sizes = (7, 10)\")\n",
        "descriptor = cv2.xfeatures2d.SIFT_create()\n",
        "model = MLPClassifier(hidden_layer_sizes=(7, 10), random_state=1, max_iter = 400)\n",
        "patch_stride = 8\n",
        "K = 28\n",
        "execution_training(model, descriptor, patch_stride, K, x_train, x_test)"
      ],
      "metadata": {
        "colab": {
          "base_uri": "https://localhost:8080/"
        },
        "id": "9ERV5ul0em0h",
        "outputId": "057462db-d476-47c0-deb8-5f46cb750759"
      },
      "execution_count": 14,
      "outputs": [
        {
          "output_type": "stream",
          "name": "stdout",
          "text": [
            "problem 3-1. model: MLP, hidden layer sizes = (7, 10)\n",
            "\tStart Extract Patches\n",
            "\tStart Extract Features\n",
            "\tStart Normalizing\n",
            "\tMake Codebook ...\n"
          ]
        },
        {
          "output_type": "stream",
          "name": "stderr",
          "text": [
            "/usr/local/lib/python3.10/dist-packages/sklearn/cluster/_kmeans.py:870: FutureWarning: The default value of `n_init` will change from 10 to 'auto' in 1.4. Set the value of `n_init` explicitly to suppress the warning\n",
            "  warnings.warn(\n"
          ]
        },
        {
          "output_type": "stream",
          "name": "stdout",
          "text": [
            "\tStart Encoding Features\n",
            "\tClassify Images ...\n",
            "\n",
            "==========================================================================================\n",
            "\tTrain  Score: 0.50650\n",
            "\tTest   Score: 0.39695\n",
            "\tElapsed Time: 330.94 secs\n",
            "==========================================================================================\n"
          ]
        },
        {
          "output_type": "stream",
          "name": "stderr",
          "text": [
            "/usr/local/lib/python3.10/dist-packages/sklearn/neural_network/_multilayer_perceptron.py:686: ConvergenceWarning: Stochastic Optimizer: Maximum iterations (400) reached and the optimization hasn't converged yet.\n",
            "  warnings.warn(\n"
          ]
        }
      ]
    },
    {
      "cell_type": "code",
      "source": [
        "from sklearn.neural_network import MLPClassifier\n",
        "\n",
        "print(\"problem 3-1. model: MLP, hidden layer sizes = (9, 10)\")\n",
        "descriptor = cv2.xfeatures2d.SIFT_create()\n",
        "model = MLPClassifier(hidden_layer_sizes=(7, 10), random_state=1, max_iter = 400)\n",
        "patch_stride = 8\n",
        "K = 28\n",
        "execution_training(model, descriptor, patch_stride, K, x_train, x_test)"
      ],
      "metadata": {
        "colab": {
          "base_uri": "https://localhost:8080/"
        },
        "id": "B5kBmMueerKC",
        "outputId": "55b80cb6-7ce0-4ff4-ba1b-71d6d9d39113"
      },
      "execution_count": 15,
      "outputs": [
        {
          "output_type": "stream",
          "name": "stdout",
          "text": [
            "problem 3-1. model: MLP, hidden layer sizes = (9, 10)\n",
            "\tStart Extract Patches\n",
            "\tStart Extract Features\n",
            "\tStart Normalizing\n",
            "\tMake Codebook ...\n"
          ]
        },
        {
          "output_type": "stream",
          "name": "stderr",
          "text": [
            "/usr/local/lib/python3.10/dist-packages/sklearn/cluster/_kmeans.py:870: FutureWarning: The default value of `n_init` will change from 10 to 'auto' in 1.4. Set the value of `n_init` explicitly to suppress the warning\n",
            "  warnings.warn(\n"
          ]
        },
        {
          "output_type": "stream",
          "name": "stdout",
          "text": [
            "\tStart Encoding Features\n",
            "\tClassify Images ...\n",
            "\n",
            "==========================================================================================\n",
            "\tTrain  Score: 0.50000\n",
            "\tTest   Score: 0.41286\n",
            "\tElapsed Time: 389.30 secs\n",
            "==========================================================================================\n"
          ]
        },
        {
          "output_type": "stream",
          "name": "stderr",
          "text": [
            "/usr/local/lib/python3.10/dist-packages/sklearn/neural_network/_multilayer_perceptron.py:686: ConvergenceWarning: Stochastic Optimizer: Maximum iterations (400) reached and the optimization hasn't converged yet.\n",
            "  warnings.warn(\n"
          ]
        }
      ]
    },
    {
      "cell_type": "code",
      "source": [
        "from sklearn.neural_network import MLPClassifier\n",
        "\n",
        "print(\"problem 3-1. model: MLP, hidden layer sizes = (15, 10)\")\n",
        "descriptor = cv2.xfeatures2d.SIFT_create()\n",
        "model = MLPClassifier(hidden_layer_sizes=(7, 10), random_state=1, max_iter = 400)\n",
        "patch_stride = 8\n",
        "K = 28\n",
        "execution_training(model, descriptor, patch_stride, K, x_train, x_test)"
      ],
      "metadata": {
        "colab": {
          "base_uri": "https://localhost:8080/"
        },
        "id": "ODXNLstCosxa",
        "outputId": "de5ba7c0-1df4-4ca6-808b-0c01cda2b953"
      },
      "execution_count": 16,
      "outputs": [
        {
          "output_type": "stream",
          "name": "stdout",
          "text": [
            "problem 3-1. model: MLP, hidden layer sizes = (15, 10)\n",
            "\tStart Extract Patches\n",
            "\tStart Extract Features\n",
            "\tStart Normalizing\n",
            "\tMake Codebook ...\n"
          ]
        },
        {
          "output_type": "stream",
          "name": "stderr",
          "text": [
            "/usr/local/lib/python3.10/dist-packages/sklearn/cluster/_kmeans.py:870: FutureWarning: The default value of `n_init` will change from 10 to 'auto' in 1.4. Set the value of `n_init` explicitly to suppress the warning\n",
            "  warnings.warn(\n"
          ]
        },
        {
          "output_type": "stream",
          "name": "stdout",
          "text": [
            "\tStart Encoding Features\n",
            "\tClassify Images ...\n",
            "\n",
            "==========================================================================================\n",
            "\tTrain  Score: 0.51040\n",
            "\tTest   Score: 0.40358\n",
            "\tElapsed Time: 388.07 secs\n",
            "==========================================================================================\n"
          ]
        }
      ]
    },
    {
      "cell_type": "code",
      "source": [],
      "metadata": {
        "id": "KT5GfvgdqPbm"
      },
      "execution_count": null,
      "outputs": []
    }
  ]
}